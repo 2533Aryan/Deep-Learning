{
  "cells": [
    {
      "cell_type": "markdown",
      "metadata": {
        "id": "Jt3uTfwELjLu"
      },
      "source": [
        "**1. Importing Data**\n",
        "\n",
        "Learn how to call files from your Google Drive into Colab and create a DataFrame with Pandas"
      ]
    },
    {
      "cell_type": "markdown",
      "metadata": {
        "id": "TATEWXv-M4PF"
      },
      "source": [
        "a. Import the Pandas data manipulation package as pd"
      ]
    },
    {
      "cell_type": "code",
      "execution_count": 1,
      "metadata": {
        "id": "Bqq7XigrL_dO"
      },
      "outputs": [],
      "source": [
        "import pandas as pd"
      ]
    },
    {
      "cell_type": "markdown",
      "metadata": {
        "id": "SNZormfLS3Dh"
      },
      "source": [
        "b. Mount your Google Drive to the file.\n",
        "\n",
        "This is essentially giving the Colab file access to your Drive so that it can find the file. Running this code will trigger a popup window where you give the Colab permission to access your Drive."
      ]
    },
    {
      "cell_type": "code",
      "source": [
        "from google.colab import drive\n",
        "drive.mount('/content/drive')  # Use 'force_remount=True' if you get an 'already mounted' error."
      ],
      "metadata": {
        "id": "KcZWIzPKwmZZ",
        "colab": {
          "base_uri": "https://localhost:8080/"
        },
        "outputId": "4e523e2b-813d-41ea-ef1a-0d625601b048"
      },
      "execution_count": 2,
      "outputs": [
        {
          "output_type": "stream",
          "name": "stdout",
          "text": [
            "Drive already mounted at /content/drive; to attempt to forcibly remount, call drive.mount(\"/content/drive\", force_remount=True).\n"
          ]
        }
      ]
    },
    {
      "cell_type": "markdown",
      "metadata": {
        "id": "XXhkkxyfM7-d"
      },
      "source": [
        "c. Import the Lab Assignment 1 Data.csv file and transform it into a DataFrame (df)."
      ]
    },
    {
      "source": [
        "# CSV file ID\n",
        "csv_file_id = '1VNi0yhLBER693RD-FNGgg8wOtPrc1Tq5'\n",
        "\n",
        "# You need to copy the Lab Assignment 1 Data file link\n",
        "# After the /d/ is the file ID\n",
        "#Once you have obtained the file ID, you can import the file into your Colab notebook using the following code:\n",
        "url = f'https://drive.google.com/uc?id={csv_file_id}&export=download'\n",
        "\n",
        "# Load the CSV file into a DataFrame\n",
        "df = pd.read_csv(url)\n",
        "\n",
        "# Print the top five rows of the data to check it imported correctly using the .head() command\n",
        "df.head()"
      ],
      "cell_type": "code",
      "metadata": {
        "colab": {
          "base_uri": "https://localhost:8080/",
          "height": 255
        },
        "id": "MCpdtdsvtZ-0",
        "outputId": "f570da33-47af-4b12-8135-ed224ca21d2b"
      },
      "execution_count": 3,
      "outputs": [
        {
          "output_type": "execute_result",
          "data": {
            "text/plain": [
              "      21.2    21.02    21.25  21.3799  20.8999    21.11  21.0699  20.8099  \\\n",
              "0  21.1000  21.2199  21.4400  21.4400  21.1299  21.1000  21.1000  20.9500   \n",
              "1  27.3999  27.2299  26.4799  26.6900  27.1700  26.3799  26.1599  25.9300   \n",
              "2  20.8999  20.6200  20.8799  21.0799  20.6599  20.5799  20.4400  20.4599   \n",
              "3  20.8400  20.5300  20.7999  20.8700  20.7900  20.4200  20.5200  20.4099   \n",
              "4  21.1100  21.0200  21.2199  21.1800  21.0000  21.0699  20.7999  20.8299   \n",
              "\n",
              "   20.6299    20.51  ...  21.2299   21.2.1  21.3999  21.3299  21.11.1  \\\n",
              "0  20.6599  20.7399  ...  21.4799  21.2900  21.4400  21.2600  21.3299   \n",
              "1  26.6299  25.0799  ...  26.0000  26.7099  27.6700  27.5100  26.5400   \n",
              "2  20.0599  20.0400  ...  20.7299  21.0300  20.9799  20.9899  20.9500   \n",
              "3  20.0200  19.9400  ...  20.6499  20.5699  20.8600  20.7099  20.8099   \n",
              "4  20.3799  20.6800  ...  21.4200  21.1399  21.0799  21.0799  21.3700   \n",
              "\n",
              "   21.5699  21.53  21.8099  21.5499  21.3799.1  \n",
              "0  21.6000  21.75  21.9200  21.5400    21.5400  \n",
              "1  27.5300  27.70  28.2099  27.9599    27.6800  \n",
              "2  21.2099  20.95  21.5100  21.3400    20.8600  \n",
              "3  21.0599  20.93  21.2199  21.2800    20.8099  \n",
              "4  21.3400  21.45  21.8700  21.6200    21.2199  \n",
              "\n",
              "[5 rows x 24 columns]"
            ],
            "text/html": [
              "\n",
              "  <div id=\"df-ccb21e28-72c1-4bbb-a2b1-fcab02940302\" class=\"colab-df-container\">\n",
              "    <div>\n",
              "<style scoped>\n",
              "    .dataframe tbody tr th:only-of-type {\n",
              "        vertical-align: middle;\n",
              "    }\n",
              "\n",
              "    .dataframe tbody tr th {\n",
              "        vertical-align: top;\n",
              "    }\n",
              "\n",
              "    .dataframe thead th {\n",
              "        text-align: right;\n",
              "    }\n",
              "</style>\n",
              "<table border=\"1\" class=\"dataframe\">\n",
              "  <thead>\n",
              "    <tr style=\"text-align: right;\">\n",
              "      <th></th>\n",
              "      <th>21.2</th>\n",
              "      <th>21.02</th>\n",
              "      <th>21.25</th>\n",
              "      <th>21.3799</th>\n",
              "      <th>20.8999</th>\n",
              "      <th>21.11</th>\n",
              "      <th>21.0699</th>\n",
              "      <th>20.8099</th>\n",
              "      <th>20.6299</th>\n",
              "      <th>20.51</th>\n",
              "      <th>...</th>\n",
              "      <th>21.2299</th>\n",
              "      <th>21.2.1</th>\n",
              "      <th>21.3999</th>\n",
              "      <th>21.3299</th>\n",
              "      <th>21.11.1</th>\n",
              "      <th>21.5699</th>\n",
              "      <th>21.53</th>\n",
              "      <th>21.8099</th>\n",
              "      <th>21.5499</th>\n",
              "      <th>21.3799.1</th>\n",
              "    </tr>\n",
              "  </thead>\n",
              "  <tbody>\n",
              "    <tr>\n",
              "      <th>0</th>\n",
              "      <td>21.1000</td>\n",
              "      <td>21.2199</td>\n",
              "      <td>21.4400</td>\n",
              "      <td>21.4400</td>\n",
              "      <td>21.1299</td>\n",
              "      <td>21.1000</td>\n",
              "      <td>21.1000</td>\n",
              "      <td>20.9500</td>\n",
              "      <td>20.6599</td>\n",
              "      <td>20.7399</td>\n",
              "      <td>...</td>\n",
              "      <td>21.4799</td>\n",
              "      <td>21.2900</td>\n",
              "      <td>21.4400</td>\n",
              "      <td>21.2600</td>\n",
              "      <td>21.3299</td>\n",
              "      <td>21.6000</td>\n",
              "      <td>21.75</td>\n",
              "      <td>21.9200</td>\n",
              "      <td>21.5400</td>\n",
              "      <td>21.5400</td>\n",
              "    </tr>\n",
              "    <tr>\n",
              "      <th>1</th>\n",
              "      <td>27.3999</td>\n",
              "      <td>27.2299</td>\n",
              "      <td>26.4799</td>\n",
              "      <td>26.6900</td>\n",
              "      <td>27.1700</td>\n",
              "      <td>26.3799</td>\n",
              "      <td>26.1599</td>\n",
              "      <td>25.9300</td>\n",
              "      <td>26.6299</td>\n",
              "      <td>25.0799</td>\n",
              "      <td>...</td>\n",
              "      <td>26.0000</td>\n",
              "      <td>26.7099</td>\n",
              "      <td>27.6700</td>\n",
              "      <td>27.5100</td>\n",
              "      <td>26.5400</td>\n",
              "      <td>27.5300</td>\n",
              "      <td>27.70</td>\n",
              "      <td>28.2099</td>\n",
              "      <td>27.9599</td>\n",
              "      <td>27.6800</td>\n",
              "    </tr>\n",
              "    <tr>\n",
              "      <th>2</th>\n",
              "      <td>20.8999</td>\n",
              "      <td>20.6200</td>\n",
              "      <td>20.8799</td>\n",
              "      <td>21.0799</td>\n",
              "      <td>20.6599</td>\n",
              "      <td>20.5799</td>\n",
              "      <td>20.4400</td>\n",
              "      <td>20.4599</td>\n",
              "      <td>20.0599</td>\n",
              "      <td>20.0400</td>\n",
              "      <td>...</td>\n",
              "      <td>20.7299</td>\n",
              "      <td>21.0300</td>\n",
              "      <td>20.9799</td>\n",
              "      <td>20.9899</td>\n",
              "      <td>20.9500</td>\n",
              "      <td>21.2099</td>\n",
              "      <td>20.95</td>\n",
              "      <td>21.5100</td>\n",
              "      <td>21.3400</td>\n",
              "      <td>20.8600</td>\n",
              "    </tr>\n",
              "    <tr>\n",
              "      <th>3</th>\n",
              "      <td>20.8400</td>\n",
              "      <td>20.5300</td>\n",
              "      <td>20.7999</td>\n",
              "      <td>20.8700</td>\n",
              "      <td>20.7900</td>\n",
              "      <td>20.4200</td>\n",
              "      <td>20.5200</td>\n",
              "      <td>20.4099</td>\n",
              "      <td>20.0200</td>\n",
              "      <td>19.9400</td>\n",
              "      <td>...</td>\n",
              "      <td>20.6499</td>\n",
              "      <td>20.5699</td>\n",
              "      <td>20.8600</td>\n",
              "      <td>20.7099</td>\n",
              "      <td>20.8099</td>\n",
              "      <td>21.0599</td>\n",
              "      <td>20.93</td>\n",
              "      <td>21.2199</td>\n",
              "      <td>21.2800</td>\n",
              "      <td>20.8099</td>\n",
              "    </tr>\n",
              "    <tr>\n",
              "      <th>4</th>\n",
              "      <td>21.1100</td>\n",
              "      <td>21.0200</td>\n",
              "      <td>21.2199</td>\n",
              "      <td>21.1800</td>\n",
              "      <td>21.0000</td>\n",
              "      <td>21.0699</td>\n",
              "      <td>20.7999</td>\n",
              "      <td>20.8299</td>\n",
              "      <td>20.3799</td>\n",
              "      <td>20.6800</td>\n",
              "      <td>...</td>\n",
              "      <td>21.4200</td>\n",
              "      <td>21.1399</td>\n",
              "      <td>21.0799</td>\n",
              "      <td>21.0799</td>\n",
              "      <td>21.3700</td>\n",
              "      <td>21.3400</td>\n",
              "      <td>21.45</td>\n",
              "      <td>21.8700</td>\n",
              "      <td>21.6200</td>\n",
              "      <td>21.2199</td>\n",
              "    </tr>\n",
              "  </tbody>\n",
              "</table>\n",
              "<p>5 rows × 24 columns</p>\n",
              "</div>\n",
              "    <div class=\"colab-df-buttons\">\n",
              "\n",
              "  <div class=\"colab-df-container\">\n",
              "    <button class=\"colab-df-convert\" onclick=\"convertToInteractive('df-ccb21e28-72c1-4bbb-a2b1-fcab02940302')\"\n",
              "            title=\"Convert this dataframe to an interactive table.\"\n",
              "            style=\"display:none;\">\n",
              "\n",
              "  <svg xmlns=\"http://www.w3.org/2000/svg\" height=\"24px\" viewBox=\"0 -960 960 960\">\n",
              "    <path d=\"M120-120v-720h720v720H120Zm60-500h600v-160H180v160Zm220 220h160v-160H400v160Zm0 220h160v-160H400v160ZM180-400h160v-160H180v160Zm440 0h160v-160H620v160ZM180-180h160v-160H180v160Zm440 0h160v-160H620v160Z\"/>\n",
              "  </svg>\n",
              "    </button>\n",
              "\n",
              "  <style>\n",
              "    .colab-df-container {\n",
              "      display:flex;\n",
              "      gap: 12px;\n",
              "    }\n",
              "\n",
              "    .colab-df-convert {\n",
              "      background-color: #E8F0FE;\n",
              "      border: none;\n",
              "      border-radius: 50%;\n",
              "      cursor: pointer;\n",
              "      display: none;\n",
              "      fill: #1967D2;\n",
              "      height: 32px;\n",
              "      padding: 0 0 0 0;\n",
              "      width: 32px;\n",
              "    }\n",
              "\n",
              "    .colab-df-convert:hover {\n",
              "      background-color: #E2EBFA;\n",
              "      box-shadow: 0px 1px 2px rgba(60, 64, 67, 0.3), 0px 1px 3px 1px rgba(60, 64, 67, 0.15);\n",
              "      fill: #174EA6;\n",
              "    }\n",
              "\n",
              "    .colab-df-buttons div {\n",
              "      margin-bottom: 4px;\n",
              "    }\n",
              "\n",
              "    [theme=dark] .colab-df-convert {\n",
              "      background-color: #3B4455;\n",
              "      fill: #D2E3FC;\n",
              "    }\n",
              "\n",
              "    [theme=dark] .colab-df-convert:hover {\n",
              "      background-color: #434B5C;\n",
              "      box-shadow: 0px 1px 3px 1px rgba(0, 0, 0, 0.15);\n",
              "      filter: drop-shadow(0px 1px 2px rgba(0, 0, 0, 0.3));\n",
              "      fill: #FFFFFF;\n",
              "    }\n",
              "  </style>\n",
              "\n",
              "    <script>\n",
              "      const buttonEl =\n",
              "        document.querySelector('#df-ccb21e28-72c1-4bbb-a2b1-fcab02940302 button.colab-df-convert');\n",
              "      buttonEl.style.display =\n",
              "        google.colab.kernel.accessAllowed ? 'block' : 'none';\n",
              "\n",
              "      async function convertToInteractive(key) {\n",
              "        const element = document.querySelector('#df-ccb21e28-72c1-4bbb-a2b1-fcab02940302');\n",
              "        const dataTable =\n",
              "          await google.colab.kernel.invokeFunction('convertToInteractive',\n",
              "                                                    [key], {});\n",
              "        if (!dataTable) return;\n",
              "\n",
              "        const docLinkHtml = 'Like what you see? Visit the ' +\n",
              "          '<a target=\"_blank\" href=https://colab.research.google.com/notebooks/data_table.ipynb>data table notebook</a>'\n",
              "          + ' to learn more about interactive tables.';\n",
              "        element.innerHTML = '';\n",
              "        dataTable['output_type'] = 'display_data';\n",
              "        await google.colab.output.renderOutput(dataTable, element);\n",
              "        const docLink = document.createElement('div');\n",
              "        docLink.innerHTML = docLinkHtml;\n",
              "        element.appendChild(docLink);\n",
              "      }\n",
              "    </script>\n",
              "  </div>\n",
              "\n",
              "\n",
              "<div id=\"df-ab92a661-567f-4957-a071-1fdc12b156e0\">\n",
              "  <button class=\"colab-df-quickchart\" onclick=\"quickchart('df-ab92a661-567f-4957-a071-1fdc12b156e0')\"\n",
              "            title=\"Suggest charts\"\n",
              "            style=\"display:none;\">\n",
              "\n",
              "<svg xmlns=\"http://www.w3.org/2000/svg\" height=\"24px\"viewBox=\"0 0 24 24\"\n",
              "     width=\"24px\">\n",
              "    <g>\n",
              "        <path d=\"M19 3H5c-1.1 0-2 .9-2 2v14c0 1.1.9 2 2 2h14c1.1 0 2-.9 2-2V5c0-1.1-.9-2-2-2zM9 17H7v-7h2v7zm4 0h-2V7h2v10zm4 0h-2v-4h2v4z\"/>\n",
              "    </g>\n",
              "</svg>\n",
              "  </button>\n",
              "\n",
              "<style>\n",
              "  .colab-df-quickchart {\n",
              "      --bg-color: #E8F0FE;\n",
              "      --fill-color: #1967D2;\n",
              "      --hover-bg-color: #E2EBFA;\n",
              "      --hover-fill-color: #174EA6;\n",
              "      --disabled-fill-color: #AAA;\n",
              "      --disabled-bg-color: #DDD;\n",
              "  }\n",
              "\n",
              "  [theme=dark] .colab-df-quickchart {\n",
              "      --bg-color: #3B4455;\n",
              "      --fill-color: #D2E3FC;\n",
              "      --hover-bg-color: #434B5C;\n",
              "      --hover-fill-color: #FFFFFF;\n",
              "      --disabled-bg-color: #3B4455;\n",
              "      --disabled-fill-color: #666;\n",
              "  }\n",
              "\n",
              "  .colab-df-quickchart {\n",
              "    background-color: var(--bg-color);\n",
              "    border: none;\n",
              "    border-radius: 50%;\n",
              "    cursor: pointer;\n",
              "    display: none;\n",
              "    fill: var(--fill-color);\n",
              "    height: 32px;\n",
              "    padding: 0;\n",
              "    width: 32px;\n",
              "  }\n",
              "\n",
              "  .colab-df-quickchart:hover {\n",
              "    background-color: var(--hover-bg-color);\n",
              "    box-shadow: 0 1px 2px rgba(60, 64, 67, 0.3), 0 1px 3px 1px rgba(60, 64, 67, 0.15);\n",
              "    fill: var(--button-hover-fill-color);\n",
              "  }\n",
              "\n",
              "  .colab-df-quickchart-complete:disabled,\n",
              "  .colab-df-quickchart-complete:disabled:hover {\n",
              "    background-color: var(--disabled-bg-color);\n",
              "    fill: var(--disabled-fill-color);\n",
              "    box-shadow: none;\n",
              "  }\n",
              "\n",
              "  .colab-df-spinner {\n",
              "    border: 2px solid var(--fill-color);\n",
              "    border-color: transparent;\n",
              "    border-bottom-color: var(--fill-color);\n",
              "    animation:\n",
              "      spin 1s steps(1) infinite;\n",
              "  }\n",
              "\n",
              "  @keyframes spin {\n",
              "    0% {\n",
              "      border-color: transparent;\n",
              "      border-bottom-color: var(--fill-color);\n",
              "      border-left-color: var(--fill-color);\n",
              "    }\n",
              "    20% {\n",
              "      border-color: transparent;\n",
              "      border-left-color: var(--fill-color);\n",
              "      border-top-color: var(--fill-color);\n",
              "    }\n",
              "    30% {\n",
              "      border-color: transparent;\n",
              "      border-left-color: var(--fill-color);\n",
              "      border-top-color: var(--fill-color);\n",
              "      border-right-color: var(--fill-color);\n",
              "    }\n",
              "    40% {\n",
              "      border-color: transparent;\n",
              "      border-right-color: var(--fill-color);\n",
              "      border-top-color: var(--fill-color);\n",
              "    }\n",
              "    60% {\n",
              "      border-color: transparent;\n",
              "      border-right-color: var(--fill-color);\n",
              "    }\n",
              "    80% {\n",
              "      border-color: transparent;\n",
              "      border-right-color: var(--fill-color);\n",
              "      border-bottom-color: var(--fill-color);\n",
              "    }\n",
              "    90% {\n",
              "      border-color: transparent;\n",
              "      border-bottom-color: var(--fill-color);\n",
              "    }\n",
              "  }\n",
              "</style>\n",
              "\n",
              "  <script>\n",
              "    async function quickchart(key) {\n",
              "      const quickchartButtonEl =\n",
              "        document.querySelector('#' + key + ' button');\n",
              "      quickchartButtonEl.disabled = true;  // To prevent multiple clicks.\n",
              "      quickchartButtonEl.classList.add('colab-df-spinner');\n",
              "      try {\n",
              "        const charts = await google.colab.kernel.invokeFunction(\n",
              "            'suggestCharts', [key], {});\n",
              "      } catch (error) {\n",
              "        console.error('Error during call to suggestCharts:', error);\n",
              "      }\n",
              "      quickchartButtonEl.classList.remove('colab-df-spinner');\n",
              "      quickchartButtonEl.classList.add('colab-df-quickchart-complete');\n",
              "    }\n",
              "    (() => {\n",
              "      let quickchartButtonEl =\n",
              "        document.querySelector('#df-ab92a661-567f-4957-a071-1fdc12b156e0 button');\n",
              "      quickchartButtonEl.style.display =\n",
              "        google.colab.kernel.accessAllowed ? 'block' : 'none';\n",
              "    })();\n",
              "  </script>\n",
              "</div>\n",
              "\n",
              "    </div>\n",
              "  </div>\n"
            ],
            "application/vnd.google.colaboratory.intrinsic+json": {
              "type": "dataframe",
              "variable_name": "df"
            }
          },
          "metadata": {},
          "execution_count": 3
        }
      ]
    },
    {
      "cell_type": "markdown",
      "source": [
        "**2. Data Manipulation**\n",
        "\n",
        "Learn how to select/delete rows and columns from the DataFrame, export a .csv file to your Google Drive, convert a DataFrame to a NumPy array, and do basic arithmetic on the array."
      ],
      "metadata": {
        "id": "__whrJuyWTAS"
      }
    },
    {
      "cell_type": "markdown",
      "source": [
        "a. Find and print the shape of the DataFrame we imported above."
      ],
      "metadata": {
        "id": "UI79iKi3XGTY"
      }
    },
    {
      "cell_type": "code",
      "source": [
        "# Find and print the shape of the DataFrame\n",
        "shape = df.shape\n",
        "print(\"Shape of the DataFrame:\", shape)\n"
      ],
      "metadata": {
        "id": "-p9BBzqmXbgW",
        "colab": {
          "base_uri": "https://localhost:8080/"
        },
        "outputId": "ab702ba7-adc2-41ca-b3f9-98baf0db78d6"
      },
      "execution_count": 4,
      "outputs": [
        {
          "output_type": "stream",
          "name": "stdout",
          "text": [
            "Shape of the DataFrame: (3235, 24)\n"
          ]
        }
      ]
    },
    {
      "cell_type": "markdown",
      "source": [
        "b. Select only the first 100 rows by 10 columns and print the resulting DataFrame."
      ],
      "metadata": {
        "id": "WYC6HB8vYBIB"
      }
    },
    {
      "cell_type": "code",
      "source": [
        "# Select the first 100 rows and 10 columns\n",
        "reduced_df = df.iloc[:100, :10]\n",
        "print(reduced_df)\n",
        "\n",
        "#hint: use the iloc command"
      ],
      "metadata": {
        "id": "Wd5-C_8IYJN2",
        "colab": {
          "base_uri": "https://localhost:8080/"
        },
        "outputId": "383c6481-3989-4bbd-e79e-18f6ae6d274f"
      },
      "execution_count": 5,
      "outputs": [
        {
          "output_type": "stream",
          "name": "stdout",
          "text": [
            "       21.2    21.02    21.25  21.3799  20.8999    21.11  21.0699  20.8099  \\\n",
            "0   21.1000  21.2199  21.4400  21.4400  21.1299  21.1000  21.1000  20.9500   \n",
            "1   27.3999  27.2299  26.4799  26.6900  27.1700  26.3799  26.1599  25.9300   \n",
            "2   20.8999  20.6200  20.8799  21.0799  20.6599  20.5799  20.4400  20.4599   \n",
            "3   20.8400  20.5300  20.7999  20.8700  20.7900  20.4200  20.5200  20.4099   \n",
            "4   21.1100  21.0200  21.2199  21.1800  21.0000  21.0699  20.7999  20.8299   \n",
            "..      ...      ...      ...      ...      ...      ...      ...      ...   \n",
            "95  -1.7999  -1.8400  -1.6900  -1.3899  -2.0499  -1.9099  -1.9400  -1.6499   \n",
            "96  -1.7400  -1.8099  -1.6399  -1.4700  -2.0399  -2.0299  -2.0299  -1.5900   \n",
            "97  -1.8300  -1.7400  -1.6299  -1.4800  -2.0499  -1.9800  -2.0000  -1.6499   \n",
            "98  -1.7899  -1.7799  -1.6599  -1.5499  -2.0799  -1.9600  -1.9400  -1.6100   \n",
            "99  -1.5599  -1.9900  -1.7100  -1.4199  -2.0599  -2.1199  -1.9600  -1.5299   \n",
            "\n",
            "    20.6299    20.51  \n",
            "0   20.6599  20.7399  \n",
            "1   26.6299  25.0799  \n",
            "2   20.0599  20.0400  \n",
            "3   20.0200  19.9400  \n",
            "4   20.3799  20.6800  \n",
            "..      ...      ...  \n",
            "95  -1.8099  -1.8200  \n",
            "96  -1.8600  -2.0099  \n",
            "97  -1.8700  -1.8200  \n",
            "98  -1.8500  -1.7799  \n",
            "99  -1.8300  -1.8600  \n",
            "\n",
            "[100 rows x 10 columns]\n"
          ]
        }
      ]
    },
    {
      "cell_type": "markdown",
      "source": [
        "c. From this new 100x10 DataFrame, keep only every 5th row. Rename and print the new DataFrame. Then find and print its shape."
      ],
      "metadata": {
        "id": "UXv09YcoZaBk"
      }
    },
    {
      "cell_type": "code",
      "source": [
        "# Select every 5th row\n",
        "nth_row_reduced_df = reduced_df.iloc[::5, :]\n",
        "print(nth_row_reduced_df)\n",
        "\n",
        "# Print the shape of the new DataFrame\n",
        "print(\"Shape of nth_row_reduced_df:\", nth_row_reduced_df.shape)\n",
        "\n",
        "#hint: use the iloc command with a slight change"
      ],
      "metadata": {
        "id": "J9-cEF1uZY-S",
        "colab": {
          "base_uri": "https://localhost:8080/"
        },
        "outputId": "2bd0b7d2-acbd-4935-dcd1-fa98818bb1c4"
      },
      "execution_count": 6,
      "outputs": [
        {
          "output_type": "stream",
          "name": "stdout",
          "text": [
            "       21.2    21.02    21.25  21.3799  20.8999    21.11  21.0699  20.8099  \\\n",
            "0   21.1000  21.2199  21.4400  21.4400  21.1299  21.1000  21.1000  20.9500   \n",
            "5   21.4699  21.3199  21.4099  21.5200  21.2399  21.2800  21.2900  21.1100   \n",
            "10  21.1499  21.0300  21.2299  21.4699  21.0100  20.8999  20.7399  20.9300   \n",
            "15  20.1800  19.5699  19.6399  19.9300  19.6800  19.4300  19.5100  19.4400   \n",
            "20  12.9700  13.9099  14.6000  14.4300  13.5900  14.1199  14.5500  14.7100   \n",
            "25  -1.3799  -1.7599  -1.7599  -1.4900  -1.9900  -1.8799  -1.7799  -1.4500   \n",
            "30  -1.8899  -2.1099  -1.9299  -1.6299  -2.3299  -2.3199  -2.2100  -1.8500   \n",
            "35  -1.7599  -1.9099  -1.7500  -1.5099  -2.2899  -2.2100  -1.8700  -1.6200   \n",
            "40  -1.6799  -1.7599  -1.7500  -1.3999  -2.0499  -1.9900  -1.9500  -1.6200   \n",
            "45  -1.6100  -1.8899  -1.6799  -1.4500  -2.0999  -2.1400  -1.8500  -1.4900   \n",
            "50  -1.6900  -1.8300  -1.6900  -1.4600  -2.1199  -1.9600  -1.8600  -1.5800   \n",
            "55  -1.6499  -1.7400  -1.7400  -1.3899  -2.1600  -2.1700  -1.9099  -1.5900   \n",
            "60  -1.6900  -1.7599  -1.7400  -1.3999  -2.1199  -2.1300  -1.8799  -1.6100   \n",
            "65  -1.6000  -1.8600  -1.8400  -1.3400  -2.1400  -1.9900  -1.8500  -1.6499   \n",
            "70  -1.6599  -1.8099  -1.6900  -1.4299  -2.1700  -2.0699  -1.8300  -1.6399   \n",
            "75  -1.6699  -1.7999  -1.6299  -1.3400  -2.0399  -2.0199  -1.8999  -1.6200   \n",
            "80  -1.6499  -1.8300  -1.6699  -1.5499  -2.0000  -2.0199  -1.8400  -1.5900   \n",
            "85  -1.6699  -1.8099  -1.6399  -1.3799  -2.0499  -1.9800  -1.8500  -1.5800   \n",
            "90  -1.7200  -1.8099  -1.6900  -1.3700  -2.0599  -2.0699  -1.8200  -1.5800   \n",
            "95  -1.7999  -1.8400  -1.6900  -1.3899  -2.0499  -1.9099  -1.9400  -1.6499   \n",
            "\n",
            "    20.6299    20.51  \n",
            "0   20.6599  20.7399  \n",
            "5   20.6800  20.7500  \n",
            "10  20.3799  20.4200  \n",
            "15  19.1800  18.8700  \n",
            "20  12.0500  13.1099  \n",
            "25  -1.6799  -1.8700  \n",
            "30  -1.9500  -2.1400  \n",
            "35  -1.8700  -1.9400  \n",
            "40  -1.8099  -1.8300  \n",
            "45  -1.7400  -1.8500  \n",
            "50  -1.7599  -1.7699  \n",
            "55  -1.7500  -1.8099  \n",
            "60  -1.7500  -1.8200  \n",
            "65  -1.7599  -1.8099  \n",
            "70  -1.7599  -1.8200  \n",
            "75  -1.8099  -1.7999  \n",
            "80  -1.7500  -1.7999  \n",
            "85  -1.6799  -1.7999  \n",
            "90  -1.7599  -1.7999  \n",
            "95  -1.8099  -1.8200  \n",
            "Shape of nth_row_reduced_df: (20, 10)\n"
          ]
        }
      ]
    },
    {
      "cell_type": "markdown",
      "source": [
        "d. Create a new .cvs file to store the last DataFrame created in c. Name this file \"Lab Assignment 1 Manipulated Data\"."
      ],
      "metadata": {
        "id": "0mqub2DHaKYB"
      }
    },
    {
      "cell_type": "code",
      "source": [
        "#Create the Directory\n",
        "import os\n",
        "\n",
        "# Check if the directory exists\n",
        "if not os.path.exists('/content/drive/My Drive/Lab 01 Data'):\n",
        "  # Create the directory if it doesn't exist\n",
        "  os.makedirs('/content/drive/My Drive/Lab 01 Data')\n",
        "\n",
        "\n",
        "# Define your file path first, ie, describe within your drive which folder(s) the created file will live in:\n",
        "# file_path = '/content/drive/My Drive/FOLDER/Lab Assignment 1 Manipulated Data.csv'\n",
        "file_path = '/content/drive/My Drive/Lab 01 Data/Lab Assignment 1 Manipulated Data.csv'\n",
        "\n",
        "# Then use .to_csv:\n",
        "nth_row_reduced_df.to_csv(file_path, index=False)"
      ],
      "metadata": {
        "id": "MHObRoqoxTnq"
      },
      "execution_count": 7,
      "outputs": []
    },
    {
      "cell_type": "markdown",
      "source": [
        "e. Convert the DataFrame into a Numpy array. Print the array, then find and print its shape.\n",
        "\n",
        "*Don't forget to import the NumPy package!"
      ],
      "metadata": {
        "id": "3AjlDQLwcFZx"
      }
    },
    {
      "cell_type": "code",
      "source": [
        "import numpy as np\n",
        "\n",
        "# Convert the DataFrame to a NumPy array\n",
        "array = nth_row_reduced_df.to_numpy()\n",
        "print(array)\n",
        "\n",
        "# Print the shape of the array\n",
        "print(\"Shape of the array:\", array.shape)\n",
        "\n",
        "# hint: use the .to_numpy() command"
      ],
      "metadata": {
        "id": "HSx2K-xCcJO_",
        "colab": {
          "base_uri": "https://localhost:8080/"
        },
        "outputId": "23ce202c-3010-41b1-da5f-c8c4230fe0f1"
      },
      "execution_count": 8,
      "outputs": [
        {
          "output_type": "stream",
          "name": "stdout",
          "text": [
            "[[21.1    21.2199 21.44   21.44   21.1299 21.1    21.1    20.95   20.6599\n",
            "  20.7399]\n",
            " [21.4699 21.3199 21.4099 21.52   21.2399 21.28   21.29   21.11   20.68\n",
            "  20.75  ]\n",
            " [21.1499 21.03   21.2299 21.4699 21.01   20.8999 20.7399 20.93   20.3799\n",
            "  20.42  ]\n",
            " [20.18   19.5699 19.6399 19.93   19.68   19.43   19.51   19.44   19.18\n",
            "  18.87  ]\n",
            " [12.97   13.9099 14.6    14.43   13.59   14.1199 14.55   14.71   12.05\n",
            "  13.1099]\n",
            " [-1.3799 -1.7599 -1.7599 -1.49   -1.99   -1.8799 -1.7799 -1.45   -1.6799\n",
            "  -1.87  ]\n",
            " [-1.8899 -2.1099 -1.9299 -1.6299 -2.3299 -2.3199 -2.21   -1.85   -1.95\n",
            "  -2.14  ]\n",
            " [-1.7599 -1.9099 -1.75   -1.5099 -2.2899 -2.21   -1.87   -1.62   -1.87\n",
            "  -1.94  ]\n",
            " [-1.6799 -1.7599 -1.75   -1.3999 -2.0499 -1.99   -1.95   -1.62   -1.8099\n",
            "  -1.83  ]\n",
            " [-1.61   -1.8899 -1.6799 -1.45   -2.0999 -2.14   -1.85   -1.49   -1.74\n",
            "  -1.85  ]\n",
            " [-1.69   -1.83   -1.69   -1.46   -2.1199 -1.96   -1.86   -1.58   -1.7599\n",
            "  -1.7699]\n",
            " [-1.6499 -1.74   -1.74   -1.3899 -2.16   -2.17   -1.9099 -1.59   -1.75\n",
            "  -1.8099]\n",
            " [-1.69   -1.7599 -1.74   -1.3999 -2.1199 -2.13   -1.8799 -1.61   -1.75\n",
            "  -1.82  ]\n",
            " [-1.6    -1.86   -1.84   -1.34   -2.14   -1.99   -1.85   -1.6499 -1.7599\n",
            "  -1.8099]\n",
            " [-1.6599 -1.8099 -1.69   -1.4299 -2.17   -2.0699 -1.83   -1.6399 -1.7599\n",
            "  -1.82  ]\n",
            " [-1.6699 -1.7999 -1.6299 -1.34   -2.0399 -2.0199 -1.8999 -1.62   -1.8099\n",
            "  -1.7999]\n",
            " [-1.6499 -1.83   -1.6699 -1.5499 -2.     -2.0199 -1.84   -1.59   -1.75\n",
            "  -1.7999]\n",
            " [-1.6699 -1.8099 -1.6399 -1.3799 -2.0499 -1.98   -1.85   -1.58   -1.6799\n",
            "  -1.7999]\n",
            " [-1.72   -1.8099 -1.69   -1.37   -2.0599 -2.0699 -1.82   -1.58   -1.7599\n",
            "  -1.7999]\n",
            " [-1.7999 -1.84   -1.69   -1.3899 -2.0499 -1.9099 -1.94   -1.6499 -1.8099\n",
            "  -1.82  ]]\n",
            "Shape of the array: (20, 10)\n"
          ]
        }
      ]
    },
    {
      "cell_type": "markdown",
      "source": [
        "f. Sum the rows, ie., compute the column-wise sum. You should obtain a 1x10 vector. Print the resulting vector and use the shape command to check."
      ],
      "metadata": {
        "id": "kLInzzTLcnD6"
      }
    },
    {
      "cell_type": "code",
      "source": [
        "# Sum the rows to get a 1x10 vector using the np.sum() command\n",
        "# Note that rows are defined with axis=0\n",
        "row_sums = np.sum(array, axis=0)\n",
        "\n",
        "# Print the result\n",
        "print(\"Row sums:\", row_sums)\n",
        "\n",
        "# Find and print the shape of the result\n",
        "print(\"Shape of the row sums:\", row_sums.shape)"
      ],
      "metadata": {
        "id": "YO4Bcls9eomD",
        "colab": {
          "base_uri": "https://localhost:8080/"
        },
        "outputId": "fe3f4634-6303-4660-d470-7135d12b9ff0"
      },
      "execution_count": 9,
      "outputs": [
        {
          "output_type": "stream",
          "name": "stdout",
          "text": [
            "Row sums: [71.7508 69.5306 72.4303 77.2608 64.9808 65.9705 68.8503 73.0203 66.3107\n",
            " 66.2105]\n",
            "Shape of the row sums: (10,)\n"
          ]
        }
      ]
    },
    {
      "cell_type": "markdown",
      "source": [
        "g. Multiply all the columns, ie, row-wise multiplication. You will get a 20x1 vector. Print the resulting vector and use the shape command to check."
      ],
      "metadata": {
        "id": "P52sQ6H8cse5"
      }
    },
    {
      "cell_type": "code",
      "source": [
        "# Multipy the columns using np.prod() command\n",
        "# Note that columns are defined with axis=1\n",
        "column_products = np.prod(array, axis=1)\n",
        "\n",
        "# Print the result\n",
        "print(\"Column products:\", column_products)\n",
        "\n",
        "# Find and print the shape of the result\n",
        "print(\"Shape of the column products:\", column_products.shape)"
      ],
      "metadata": {
        "id": "kMiSUgaxjtwj",
        "colab": {
          "base_uri": "https://localhost:8080/"
        },
        "outputId": "97e46880-4b2a-481e-e563-e0efbfc0c907"
      },
      "execution_count": 10,
      "outputs": [
        {
          "output_type": "stream",
          "name": "stdout",
          "text": [
            "Column products: [1.73802734e+13 1.83835217e+13 1.60816088e+13 8.11387414e+12\n",
            " 2.46601856e+11 1.93146273e+02 1.15668578e+03 4.93962070e+02\n",
            " 3.09134539e+02 2.95534028e+02 2.90238855e+02 3.13006633e+02\n",
            " 3.15345034e+02 3.03804582e+02 3.13448221e+02 2.71201484e+02\n",
            " 2.90913646e+02 2.45340086e+02 2.79930773e+02 3.21118321e+02]\n",
            "Shape of the column products: (20,)\n"
          ]
        }
      ]
    },
    {
      "cell_type": "markdown",
      "source": [
        "**3. Perceptron**"
      ],
      "metadata": {
        "id": "9-1NqbtT7aet"
      }
    },
    {
      "cell_type": "markdown",
      "source": [
        "a. Define a 2-D vector W=(W_1,W_2) and a bias b with specific values chosen as you please (defined manually, generated randomly, etc.). Print the results."
      ],
      "metadata": {
        "id": "aNiUJSac7sQp"
      }
    },
    {
      "cell_type": "code",
      "source": [
        "# Define numerically w_1 and w_2 first:\n",
        "# Use np.random.rand() to generate a random value between 0 and 1\n",
        "# Use np.random.uniform(min_value, max_value) to generate a value in a range you define\n",
        "w_1 = np.random.uniform(0, 1)\n",
        "w_2 = np.random.uniform(0, 1)\n",
        "\n",
        "# Put w_1 and w_2 into a vector W by creating an array using the np.array command\n",
        "W = np.array([w_1, w_2])\n",
        "\n",
        "# Generate b\n",
        "b = np.random.uniform(-1, 1)\n",
        "\n",
        "# Print both (W and b)\n",
        "print(\"W:\", W)\n",
        "print(\"b:\", b)"
      ],
      "metadata": {
        "id": "ihQ1yVYt8Jo9",
        "colab": {
          "base_uri": "https://localhost:8080/"
        },
        "outputId": "ed7c1e77-3e33-4872-f01c-65cd47a6fb7f"
      },
      "execution_count": 11,
      "outputs": [
        {
          "output_type": "stream",
          "name": "stdout",
          "text": [
            "W: [0.91637264 0.70381192]\n",
            "b: -0.046275953222377986\n"
          ]
        }
      ]
    },
    {
      "cell_type": "markdown",
      "source": [
        "BONUS: Graph the perceptron function F(X) =Sign(W · X) - b and see how the graph changes with varying W and b. Don't forget to import MatPlotLib.pyplot as plt.\n"
      ],
      "metadata": {
        "id": "vPtKLakd72__"
      }
    },
    {
      "cell_type": "code",
      "source": [
        "# Import matplotlib\n",
        "import matplotlib.pyplot as plt\n",
        "\n",
        "\n",
        "#define the perceptron function F(X) in python\n",
        "def perceptron(X):\n",
        "    result = np.dot(W, X) - b\n",
        "    return np.sign(result)\n",
        "\n",
        "\n",
        "# Generate points using np.linspace() and list comphrension to apply the perceptron function\n",
        "# Generate points along the X-axis\n",
        "x_points = np.linspace(-10, 10, 400)  # Generates 400 points from -10 to 10\n",
        "y_points = np.linspace(-10, 10, 400)  # Generates 400 points from -10 to 10\n",
        "\n",
        "\n",
        "# Create meshgrid for plotting\n",
        "X, Y = np.meshgrid(x_points, y_points)\n",
        "points = np.c_[X.ravel(), Y.ravel()]  # Flatten and combine X and Y points\n",
        "\n",
        "# Apply the perceptron function to the grid of points\n",
        "Z = np.array([perceptron(point) for point in points])\n",
        "\n",
        "# Reshape Z back into the grid shape for plotting\n",
        "Z = Z.reshape(X.shape)\n",
        "\n",
        "\n",
        "# Plot the figure\n",
        "plt.figure(figsize=(8, 8))\n",
        "plt.contourf(X, Y, Z, levels=[-1, 0, 1], colors=['red', 'blue'], alpha=0.6)\n",
        "plt.title('Perceptron')\n",
        "plt.xlabel('X1')\n",
        "plt.ylabel('X2')\n",
        "plt.show()"
      ],
      "metadata": {
        "id": "HSgtIzKf7nj0",
        "colab": {
          "base_uri": "https://localhost:8080/",
          "height": 718
        },
        "outputId": "2963c2be-4aaa-4037-ceeb-48f570942e80"
      },
      "execution_count": 12,
      "outputs": [
        {
          "output_type": "display_data",
          "data": {
            "text/plain": [
              "<Figure size 800x800 with 1 Axes>"
            ],
            "image/png": "[encoded data removed]"
          },
          "metadata": {}
        }
      ]
    },
    {
      "cell_type": "markdown",
      "source": [
        "**Possible resources/references:**\n",
        "\n",
        "https://saturncloud.io/blog/how-to-import-files-from-google-drive-to-colab/\n",
        "\n",
        "https://www.geeksforgeeks.org/python-list-comprehension/\n",
        "\n"
      ],
      "metadata": {
        "id": "yFPUtWLC2sn4"
      }
    }
  ],
  "metadata": {
    "colab": {
      "provenance": []
    },
    "kernelspec": {
      "display_name": "Python 3",
      "name": "python3"
    },
    "language_info": {
      "name": "python"
    }
  },
  "nbformat": 4,
  "nbformat_minor": 0
}