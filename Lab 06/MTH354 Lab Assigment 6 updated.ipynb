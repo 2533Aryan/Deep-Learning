{
 "cells": [
  {
   "cell_type": "markdown",
   "metadata": {
    "id": "P4gVu5bXJ92_"
   },
   "source": [
    "# Lab Assignment 6: Classification Problem\n",
    "\n",
    "**Remember to follow the principles of the rubric we developed:**\n",
    "\n",
    "1. Clarity/Comments\n",
    "2. Accuracy\n",
    "3. Typos\n",
    "4. Grammar/Syntax\n"
   ]
  },
  {
   "cell_type": "markdown",
   "metadata": {
    "id": "KRi96Sl-IOIk"
   },
   "source": [
    "# Introduction\n",
    "\n",
    "This lab uses the MNIST dataset to build a classification problem.\n",
    "\n",
    "The MNIST (Modified National Institute of Standards and Technology) database contains 70,000 handwritten digits (0-9), divided into training and testing sets of 60,000 digits and 10,000 digits respectively. It is widely used in training for machine learning and practicing classification problems, as we will do in this lab. The digits are grayscaled images that are 28x28 pixels and associated with corresponding number labels. They are stored as NumPy arrays.\n",
    "\n",
    "Our goal is to build a neural network which can associated to an image the correct corresponding number label.\n"
   ]
  },
  {
   "cell_type": "markdown",
   "metadata": {
    "id": "iXRkWvqQIltA"
   },
   "source": [
    "# Setup\n",
    "\n",
    "The easiest way to load the MNIST dataset is with Keras. Keras is another library similar to PyTorch used for writing machine learning in Python. We will work with Keras in this lab instead of PyTorch. Some differences between the two, as well as information about how to use Keras, is outlined in the links below.\n",
    "\n",
    "https://www.datacamp.com/tutorial/pytorch-vs-tensorflow-vs-keras\n",
    "\n",
    "https://www.datacamp.com/tutorial/deep-learning-python\n",
    "\n",
    "https://www.datacamp.com/cheat-sheet/keras-cheat-sheet-neural-networks-in-python"
   ]
  },
  {
   "cell_type": "code",
   "execution_count": 3,
   "metadata": {
    "executionInfo": {
     "elapsed": 9999,
     "status": "ok",
     "timestamp": 1699937541260,
     "user": {
      "displayName": "Abi Bowering",
      "userId": "08482982247955201463"
     },
     "user_tz": 300
    },
    "id": "peaCC4O9IbhL"
   },
   "outputs": [],
   "source": [
    "# IMPORT NECESSARY LIBRARIES\n",
    "\n",
    "import numpy as np\n",
    "import keras\n",
    "from keras.models import Sequential\n",
    "\n",
    "# The Sequential class is a linear stack of layers. We use it to build the neural network.\n",
    "# Each layer has 1 input and 1 output tensor.\n",
    "# The layers are connected sequentially, and data flows in the order they are added to the model\n",
    "# Sequential layers automatically adjust the shape of a layer's input based on the output of the layer before it\n",
    "\n",
    "\n",
    "from keras.layers import Dense, Flatten, Dropout\n",
    "\n",
    "# keras.models contains big picture information about the structure of a network,\n",
    "# whereas keras.layers contains information about specific layers used in the model.\n",
    "\n",
    "# The Dense layer is fundemental in building a network with Keras. It means every layer is connected to the one before and after it.\n",
    "# The Flatten layer is used to convert multidimension data to 1D.\n",
    "# The Dropout layer is used to avoid overfitting of the network. The dropout rate is a hyperparameter\n",
    "\n",
    "import matplotlib.pyplot as plt\n",
    "%matplotlib inline\n",
    "# makes plot appear without plt.show\n",
    "\n",
    "from sklearn.metrics import confusion_matrix\n",
    "import seaborn as sns\n",
    "\n",
    "np.random.seed(0) #constant results everytime, don't change because of the randomness\n"
   ]
  },
  {
   "cell_type": "markdown",
   "metadata": {
    "id": "CFuCVeeyIsOb"
   },
   "source": [
    "# Data Exploration\n",
    "\n",
    "load the MNIST dataset, explore characteristics (shape)\n",
    "\n",
    "Display sample images with labels\n",
    "\n"
   ]
  },
  {
   "cell_type": "code",
   "execution_count": null,
   "metadata": {
    "colab": {
     "base_uri": "https://localhost:8080/"
    },
    "executionInfo": {
     "elapsed": 615,
     "status": "ok",
     "timestamp": 1699906967905,
     "user": {
      "displayName": "Abi Bowering",
      "userId": "08482982247955201463"
     },
     "user_tz": 300
    },
    "id": "XzAGjr23I2G6",
    "outputId": "4bd41a93-c5d7-4bc7-f744-a924e27c1d0f"
   },
   "outputs": [
    {
     "name": "stdout",
     "output_type": "stream",
     "text": [
      "Downloading data from https://storage.googleapis.com/tensorflow/tf-keras-datasets/mnist.npz\n",
      "11490434/11490434 [==============================] - 0s 0us/step\n",
      "(60000, 28, 28) (60000,)\n",
      "(10000, 28, 28) (10000,)\n"
     ]
    }
   ],
   "source": [
    "# load and download dataset from Keras\n",
    "\n",
    "from keras.datasets import mnist\n",
    "(x_train, y_train), (x_test, y_test) = mnist.load_data()\n",
    "\n",
    "# find and print the shape of the training data:\n",
    "\n",
    "# find and print the shape of the testing data:\n"
   ]
  },
  {
   "cell_type": "markdown",
   "metadata": {
    "id": "Dslg8e--SmRc"
   },
   "source": [
    "**How can you interpret the shape of the training and testing data? Why is the x-shape different than the y-shape? What are the different dimensions of the x-shape representing?**\n",
    "\n",
    "*Your answer text here*"
   ]
  },
  {
   "cell_type": "code",
   "execution_count": null,
   "metadata": {
    "colab": {
     "base_uri": "https://localhost:8080/",
     "height": 181
    },
    "executionInfo": {
     "elapsed": 3308,
     "status": "ok",
     "timestamp": 1699906984687,
     "user": {
      "displayName": "Abi Bowering",
      "userId": "08482982247955201463"
     },
     "user_tz": 300
    },
    "id": "q0dBXNH3S_AQ",
    "outputId": "f8f8ebc9-aa86-49a2-86d8-f71f3f33e770"
   },
   "outputs": [
    {
     "data": {
      "image/png": "[encoded data removed]",
      "text/plain": [
       "<Figure size 2000x2000 with 10 Axes>"
      ]
     },
     "metadata": {},
     "output_type": "display_data"
    }
   ],
   "source": [
    "# in a classification problem, we have a certain number of \"classes\", or labels\n",
    "# which the network is trained to recognize.\n",
    "# determine the number of classes in this problem:\n",
    "\n",
    "num_classes =\n",
    "\n",
    "# Visualizing examples from the dataset\n",
    "\n",
    "f, ax = plt.subplots(1, num_labels, figsize=(20,20))\n",
    "\n",
    "for i in range(0, num_labels):\n",
    "  sample = x_train[y_train == i][0]\n",
    "  ax[i].imshow(sample, cmap='gray')\n",
    "  ax[i].set_title(\"Label: {}\".format(i), fontsize=16)"
   ]
  },
  {
   "cell_type": "markdown",
   "metadata": {
    "id": "8jhWZAmSI3V1"
   },
   "source": [
    "# Data Preprocessing\n",
    "\n",
    "Now that we have loaded our data, we need to process the images to make them easier to work with before using them to train the network. Images, when viewed through a computer, are essentially matrices (which is why the MNIST images are stored as NumPy arrays). We talk about the number of channels an image has, which refers to how many numbers describe a pixel. For example, most colour images have three channels, which tell us how much red, blue, and green are in each pixel. Grayscale images (black and white, like MNIST) are one channel, which tells us how much white is in each pixel. Most often, pixel values are are integers between 0 and 255. We normalize these values to be between 0 and 1."
   ]
  },
  {
   "cell_type": "code",
   "execution_count": null,
   "metadata": {
    "id": "5Mq6-qPcJBaQ"
   },
   "outputs": [],
   "source": [
    "# Normalize x_train and x_test:"
   ]
  },
  {
   "cell_type": "markdown",
   "metadata": {
    "id": "6Rxphg5KW5xM"
   },
   "source": [
    "**Why don't we need to normalize y_train and y_test?**\n",
    "\n",
    "*Your answer text here*"
   ]
  },
  {
   "cell_type": "code",
   "execution_count": null,
   "metadata": {
    "id": "igzxbw58yOTy"
   },
   "outputs": [],
   "source": [
    "# Reshape x_train and x_test data into a 1D array using the .reshape() command:\n",
    "\n",
    "x_train = x_train.reshape(x_train.shape[0], -1)\n",
    "\n",
    "# Use .shape[0] to extract the size of the first dimension (labeled 0 in Python)\n",
    "# What is the first dimension in this case? Think about the earlier question about the shape of x_train and y_train.\n",
    "# -1 when used in reshaping is a placeholder which indicates that the size of that dimension\n",
    "# should be automatically calculated based on the size of the original data.\n",
    "\n",
    "x_test =\n",
    "\n",
    "# print the resulting shapes of x_train and x_test:\n"
   ]
  },
  {
   "cell_type": "markdown",
   "metadata": {
    "id": "mxIEsNok15vt"
   },
   "source": [
    "**Why don't we need to reshape y_train and y_test?**\n",
    "\n",
    "*Your answer text here*"
   ]
  },
  {
   "cell_type": "markdown",
   "metadata": {
    "id": "in2MDZ_j5Gku"
   },
   "source": [
    "Now we need to discretize the y_train and y_test data, otherwise the network may classify an image which it can't recognize as a non-integer value."
   ]
  },
  {
   "cell_type": "code",
   "execution_count": null,
   "metadata": {
    "id": "QF7m0_FT40oe"
   },
   "outputs": [],
   "source": [
    "# Discretizing y_train\n",
    "y_train = keras.utils.to_categorical(y_train, num_classes)\n",
    "\n",
    "for i in range(10):\n",
    "  print(y_train[i])\n",
    "\n",
    "# Discretize y_test:"
   ]
  },
  {
   "cell_type": "markdown",
   "metadata": {
    "id": "w8h8VmRI57sq"
   },
   "source": [
    "**Can you explain the resulting matrices? What do the 1s and 0s represent in each row?**\n",
    "\n",
    "*Your answer text here*\n",
    "\n",
    "https://www.geeksforgeeks.org/python-keras-keras-utils-to_categorical/"
   ]
  },
  {
   "cell_type": "markdown",
   "metadata": {
    "id": "C4pI5ldzyadM"
   },
   "source": [
    "Note that preprocessing sometimes includes dividing your data into training and testing sets. However, we did this when we loaded the data."
   ]
  },
  {
   "cell_type": "markdown",
   "metadata": {
    "id": "grUCjGMmJCCh"
   },
   "source": [
    "# Model Setup"
   ]
  },
  {
   "cell_type": "code",
   "execution_count": 1,
   "metadata": {
    "colab": {
     "base_uri": "https://localhost:8080/",
     "height": 250
    },
    "executionInfo": {
     "elapsed": 10,
     "status": "error",
     "timestamp": 1699934072901,
     "user": {
      "displayName": "Abi Bowering",
      "userId": "08482982247955201463"
     },
     "user_tz": 300
    },
    "id": "tkaUoJOpJMZ3",
    "outputId": "78758ac8-399c-4392-e920-1c6826ae4ee7"
   },
   "outputs": [
    {
     "ename": "NameError",
     "evalue": "ignored",
     "output_type": "error",
     "traceback": [
      "\u001b[0;31m---------------------------------------------------------------------------\u001b[0m",
      "\u001b[0;31mNameError\u001b[0m                                 Traceback (most recent call last)",
      "\u001b[0;32m<ipython-input-1-52f68f531e8c>\u001b[0m in \u001b[0;36m<cell line: 2>\u001b[0;34m()\u001b[0m\n\u001b[1;32m      1\u001b[0m \u001b[0;31m#Initialize the sequential model:\u001b[0m\u001b[0;34m\u001b[0m\u001b[0;34m\u001b[0m\u001b[0m\n\u001b[0;32m----> 2\u001b[0;31m \u001b[0mmodel\u001b[0m \u001b[0;34m=\u001b[0m \u001b[0mSequential\u001b[0m\u001b[0;34m(\u001b[0m\u001b[0;34m)\u001b[0m\u001b[0;34m\u001b[0m\u001b[0;34m\u001b[0m\u001b[0m\n\u001b[0m\u001b[1;32m      3\u001b[0m \u001b[0;34m\u001b[0m\u001b[0m\n\u001b[1;32m      4\u001b[0m \u001b[0;31m#Add layers one by one to the model. The data will feedforward in the order they are added\u001b[0m\u001b[0;34m\u001b[0m\u001b[0;34m\u001b[0m\u001b[0m\n\u001b[1;32m      5\u001b[0m \u001b[0;31m#We use Dense layers\u001b[0m\u001b[0;34m\u001b[0m\u001b[0;34m\u001b[0m\u001b[0m\n",
      "\u001b[0;31mNameError\u001b[0m: name 'Sequential' is not defined"
     ]
    }
   ],
   "source": [
    "#Initialize the sequential model:\n",
    "model = Sequential()\n",
    "\n",
    "#Add layers one by one to the model. The data will feedforward in the order they are added\n",
    "#We use Dense layers\n",
    "#We define the number of \"units\" (neurons) and the activation function for each layer.\n",
    "#For the first layer, we define the input shape\n",
    "\n",
    "model.add(Dense(units=128, input_shape=(784,), activation = 'relu'))\n",
    "model.add(Dense(units=128, activation = 'relu'))\n",
    "\n",
    "model.add(Dropout(0.25))\n",
    "# The Dropout layer randomly drops neurons (units) from training\n",
    "# It does this by setting their inputs to 0\n",
    "# This prevents overfitting\n",
    "# Here, the model drops 25% of neurons. Try to change this parameter to see what happens\n",
    "\n",
    "model.add(Dense(units=10, activation='softmax'))\n",
    "# We use softmax as the final activation function, as is common for multi-class problems\n",
    "# Softmax converts raw model output into probabilities for each class\n",
    "\n",
    "# Now we compile the layers\n",
    "model.compile(loss='categorical_crossentropy', optimizer='adam', metrics=['accuracy'])\n",
    "# Categorical cross entropy is a loss function analogous to the binary cross entropy, but for multi-class problems\n",
    "# Adam is the typical optimizer used for gradient descent (as outlined in previous labs)\n",
    "# metrics=['accuracy'] tells the model we want to monitor accuracy as our evaluation metric\n",
    "  #as opposed to precision, recall, etc...\n",
    "\n",
    "# generate a model summary:\n",
    "model.summary()"
   ]
  },
  {
   "cell_type": "markdown",
   "metadata": {
    "id": "WpxBoJIE97bL"
   },
   "source": [
    "**Why is the input shape (784,)?**\n",
    "\n",
    "*Your answer text here*\n",
    "\n",
    "**Try changing the number of units, the activation function in the first and second layers, and the fraction of neurons dropped in the Dropout layer. Record what you changed, and what the effect was in training.**\n",
    "\n",
    "*Your answer text here*"
   ]
  },
  {
   "cell_type": "markdown",
   "metadata": {
    "id": "xWB6cX1mJM-Y"
   },
   "source": [
    "# Model Training\n",
    "\n"
   ]
  },
  {
   "cell_type": "code",
   "execution_count": null,
   "metadata": {
    "id": "gGKG8ewuJP85"
   },
   "outputs": [],
   "source": [
    "# Define the batch size and number of epochs:\n",
    "\n",
    "batch_size =\n",
    "epochs =\n",
    "\n",
    "#Train the network:\n",
    "model.fit(x=x_train, y=y_train, batch_size=batch_size, epochs=epochs)"
   ]
  },
  {
   "cell_type": "markdown",
   "metadata": {
    "id": "w735F68J-nT9"
   },
   "source": [
    "**Explain what batch size and epochs are**\n",
    "\n",
    "*Your answer text here*\n",
    "\n",
    "**Describe the trends you are seeing as the model trains**\n",
    "\n",
    "*Your answer text here*"
   ]
  },
  {
   "cell_type": "markdown",
   "metadata": {
    "id": "frh-NBCJJQb0"
   },
   "source": [
    "# Model Evaluation\n",
    "\n",
    "After we train the model on our training dataset, we evaluate the accuracy of the trained model on our testing dataset."
   ]
  },
  {
   "cell_type": "code",
   "execution_count": null,
   "metadata": {
    "id": "i7DrV7IPJwEY"
   },
   "outputs": [],
   "source": [
    "# Use the model.evaluate() to run the model on our testing dataset.\n",
    "# It will output two values, the loss value, and the accuracy metric\n",
    "\n",
    "test_loss, test_acc = model.evaluate(x_test, y_test)\n",
    "\n",
    "# Print the loss and accuracy for the test data:\n"
   ]
  },
  {
   "cell_type": "markdown",
   "metadata": {
    "id": "PBpIvcBQJTHq"
   },
   "source": [
    "We can use the model to make predictions from input data."
   ]
  },
  {
   "cell_type": "code",
   "execution_count": null,
   "metadata": {
    "id": "jhnjgenj_HAB"
   },
   "outputs": [],
   "source": [
    "#Use the trained model to predict outputs using the x_test data:\n",
    "y_pred = model.predict()\n",
    "# y_pred is a matrix, where each row is a sample from x_test. What are the columns?\n",
    "\n",
    "# Find the max value along each column of y_pred:\n",
    "y_pred_classes = np.argmax(y_pred, axis=1)\n",
    "\n",
    "#Print both y_pred and y_pred_classes"
   ]
  },
  {
   "cell_type": "markdown",
   "metadata": {
    "id": "wb5VhQStJ-au"
   },
   "source": [
    "**What do the columns of y_pred represent? How does visualizing y_pred next to y_pred_classes help us to deduce the answer? What do the values in y_pred_classes represent?**\n",
    "\n",
    "*Your answer text here*"
   ]
  },
  {
   "cell_type": "markdown",
   "metadata": {
    "id": "xGsq3OMOJwoi"
   },
   "source": [
    "# Visualization\n",
    "\n",
    "Now we want to see how model work on an example datapoint from x_test."
   ]
  },
  {
   "cell_type": "code",
   "execution_count": null,
   "metadata": {
    "id": "DvuO_dpsKXNF"
   },
   "outputs": [],
   "source": [
    "\n",
    "# \"index\" - shortened to idx - refers to the position of an element in an array\n",
    "# We choose randomly an index within x_test, locating a particular sample in the x_test array\n",
    "# What should the size of our array be? Hint: you will need to use the length command len():\n",
    "\n",
    "random_idx = np.random.choice(#?)\n",
    "\n",
    "# Call the data from the randomly selected sample:\n",
    "x_sample = x_test[random_idx]\n",
    "\n",
    "# Define what the true outputs are (labels)\n",
    "# We do this by finding the maximum probability of each label:\n",
    "y_true = np.argmax(y_test, axis=1)\n",
    "\n",
    "# for our sample, chosen with random_idx, we define the true label:\n",
    "y_sample_true = y_true[random_idx]\n",
    "\n",
    "# Call the output (label) which the model predicted for the sample indexed by random_idx\n",
    "y_sample_pred_class = y_pred_classes[random_idx]\n",
    "\n",
    "# Show the input (image) and predicted label (output)\n",
    "plt.title(\"Predicted: {}, True: {}\".format(y_sample_pred_class, y_sample_true), fontsize=16)\n",
    "plt.imshow(x_sample.reshape(28, 28), cmap = 'gray')"
   ]
  },
  {
   "cell_type": "markdown",
   "metadata": {
    "id": "u15pRt8KM0aU"
   },
   "source": [
    "**Was your network's prediction correct?**\n",
    "\n",
    "*Your answer text here*"
   ]
  },
  {
   "cell_type": "markdown",
   "metadata": {
    "id": "MrRdIfo5M7KX"
   },
   "source": [
    "# Confusion Matrix\n",
    "\n",
    "A confusion matrix is a tool used to evaluate how well a model is classifying data.\n",
    "\n",
    "https://towardsdatascience.com/understanding-confusion-matrix-a9ad42dcfd62\n",
    "\n",
    "https://www.dataschool.io/simple-guide-to-confusion-matrix-terminology/"
   ]
  },
  {
   "cell_type": "code",
   "execution_count": 2,
   "metadata": {
    "colab": {
     "base_uri": "https://localhost:8080/",
     "height": 250
    },
    "executionInfo": {
     "elapsed": 173,
     "status": "error",
     "timestamp": 1699937508398,
     "user": {
      "displayName": "Abi Bowering",
      "userId": "08482982247955201463"
     },
     "user_tz": 300
    },
    "id": "OOh4o7dlI_HF",
    "outputId": "46ee6b7f-62c2-4da2-b47d-d3ec91b10615"
   },
   "outputs": [
    {
     "ename": "NameError",
     "evalue": "ignored",
     "output_type": "error",
     "traceback": [
      "\u001b[0;31m---------------------------------------------------------------------------\u001b[0m",
      "\u001b[0;31mNameError\u001b[0m                                 Traceback (most recent call last)",
      "\u001b[0;32m<ipython-input-2-f41b2a3598d4>\u001b[0m in \u001b[0;36m<cell line: 1>\u001b[0;34m()\u001b[0m\n\u001b[0;32m----> 1\u001b[0;31m \u001b[0mconfusion_mtx\u001b[0m \u001b[0;34m=\u001b[0m \u001b[0mconfusion_matrix\u001b[0m\u001b[0;34m(\u001b[0m\u001b[0my_true\u001b[0m\u001b[0;34m,\u001b[0m \u001b[0my_pred_classes\u001b[0m\u001b[0;34m)\u001b[0m\u001b[0;34m\u001b[0m\u001b[0;34m\u001b[0m\u001b[0m\n\u001b[0m\u001b[1;32m      2\u001b[0m \u001b[0;34m\u001b[0m\u001b[0m\n\u001b[1;32m      3\u001b[0m \u001b[0;31m# Plot\u001b[0m\u001b[0;34m\u001b[0m\u001b[0;34m\u001b[0m\u001b[0m\n\u001b[1;32m      4\u001b[0m \u001b[0;34m\u001b[0m\u001b[0m\n\u001b[1;32m      5\u001b[0m \u001b[0mfig\u001b[0m\u001b[0;34m,\u001b[0m \u001b[0max\u001b[0m \u001b[0;34m=\u001b[0m \u001b[0mplt\u001b[0m\u001b[0;34m.\u001b[0m\u001b[0msubplots\u001b[0m\u001b[0;34m(\u001b[0m\u001b[0mfigsize\u001b[0m\u001b[0;34m=\u001b[0m\u001b[0;34m(\u001b[0m\u001b[0;36m15\u001b[0m\u001b[0;34m,\u001b[0m\u001b[0;36m10\u001b[0m\u001b[0;34m)\u001b[0m\u001b[0;34m)\u001b[0m\u001b[0;34m\u001b[0m\u001b[0;34m\u001b[0m\u001b[0m\n",
      "\u001b[0;31mNameError\u001b[0m: name 'confusion_matrix' is not defined"
     ]
    }
   ],
   "source": [
    "confusion_mtx = confusion_matrix(y_true, y_pred_classes)\n",
    "\n",
    "fig, ax = plt.subplots(figsize=(15,10))\n",
    "ax = sns.heatmap(confusion_mtx, annot =True, fmt='d', ax=ax, cmap = 'Blues')\n",
    "ax.set_xlabel('Predicted Label:')\n",
    "ax.set_ylabel('True Label:')\n",
    "ax.set_title('Confusion Matrix:');"
   ]
  },
  {
   "cell_type": "markdown",
   "metadata": {
    "id": "i8y3yB_gNpfz"
   },
   "source": [
    "**Run the code provided, and try to interpret the confusion matrix. What information can we gather from it? Explain with specific examples what the values in the table represent.**\n",
    "\n",
    "*Your answer text here*"
   ]
  },
  {
   "cell_type": "markdown",
   "metadata": {
    "id": "IAwonovJN6SQ"
   },
   "source": [
    "# Extension\n",
    "\n",
    "If you feel you need an extra challenge, try to write a code which can identify samples that the model labelled incorrectly. Remember, this will occur when (Value of Predicted Outcomes) - (Value of True Outcomes) ≠ 0. Display a few images that the model could not classify, and theorize about why that may be, and how we could adjust our model to eliminate errors. You do not need to rebuild the model, but just make a few suggestions."
   ]
  },
  {
   "cell_type": "code",
   "execution_count": null,
   "metadata": {
    "id": "pR0NhTbUK9ph"
   },
   "outputs": [],
   "source": []
  },
  {
   "cell_type": "markdown",
   "metadata": {},
   "source": [
    "# What if training dataset is biased?"
   ]
  },
  {
   "cell_type": "markdown",
   "metadata": {},
   "source": [
    "Preprocessing training dataset to make new training *dataset* just include single digit type \"1\"."
   ]
  },
  {
   "cell_type": "code",
   "execution_count": null,
   "metadata": {},
   "outputs": [],
   "source": [
    "indices_of_1 = np.where(np.argmax(y_train, axis=1) == 1)[0] \n",
    "x_train_1 = x_train[indices_of_1]\n",
    "y_train_1 = y_train[indices_of_1]\n",
    "\n",
    "print(\"Shape of new x_train:\", x_train_1.shape)\n",
    "print(\"Shape of new y_train:\", y_train_1.shape)"
   ]
  },
  {
   "cell_type": "markdown",
   "metadata": {},
   "source": [
    "Construct a new network for training."
   ]
  },
  {
   "cell_type": "code",
   "execution_count": null,
   "metadata": {},
   "outputs": [],
   "source": [
    "model = Sequential()\n",
    "model.add(Dense(units=128, input_shape=(784,), activation='relu'))\n",
    "model.add(Dense(units=128, activation='relu'))\n",
    "model.add(Dropout(0.25))\n",
    "model.add(Dense(units=10, activation='softmax')) \n",
    "model.compile(loss='categorical_crossentropy', optimizer='adam', metrics=['accuracy'])"
   ]
  },
  {
   "cell_type": "markdown",
   "metadata": {},
   "source": [
    "Train the model using the new biased dataset\n"
   ]
  },
  {
   "cell_type": "code",
   "execution_count": null,
   "metadata": {},
   "outputs": [],
   "source": [
    "model.fit(x=x_train_1, y=y_train_1, batch_size=batch_size, epochs=epochs)"
   ]
  },
  {
   "cell_type": "markdown",
   "metadata": {},
   "source": [
    "Test the model."
   ]
  },
  {
   "cell_type": "code",
   "execution_count": null,
   "metadata": {},
   "outputs": [],
   "source": [
    "test_loss, test_acc = model.evaluate(x_test, y_test)\n",
    "print(f'Test Loss: {test_loss:.4f}')\n",
    "print(f'Test Accuracy: {test_acc * 100:.2f}%')"
   ]
  },
  {
   "cell_type": "markdown",
   "metadata": {},
   "source": [
    "Visulize the result using confusion matrix."
   ]
  },
  {
   "cell_type": "code",
   "execution_count": null,
   "metadata": {},
   "outputs": [],
   "source": [
    "fig, ax = plt.subplots(figsize=(15, 10))\n",
    "ax = sns.heatmap(confusion_mtx, annot=True, fmt='d', ax=ax, cmap='Blues')\n",
    "ax.set_xlabel('Predicted Label')\n",
    "ax.set_ylabel('True Label')\n",
    "ax.set_title('Confusion Matrix for Biased Model');"
   ]
  },
  {
   "cell_type": "markdown",
   "metadata": {},
   "source": [
    "**Interpret this confusion matrix. What happened when the training dataset just have one type of digit?**"
   ]
  },
  {
   "cell_type": "markdown",
   "metadata": {},
   "source": [
    "*Write your answer here.*"
   ]
  }
 ],
 "metadata": {
  "colab": {
   "authorship_tag": "ABX9TyM6bsT3M2D93nWTcEm2EuEt",
   "provenance": [
    {
     "file_id": "1UzGu0Q9gEqIPt9nEkYECrtUf2CawLr_N",
     "timestamp": 1699928318060
    }
   ]
  },
  "kernelspec": {
   "display_name": "Python 3",
   "name": "python3"
  },
  "language_info": {
   "name": "python"
  }
 },
 "nbformat": 4,
 "nbformat_minor": 0
}
