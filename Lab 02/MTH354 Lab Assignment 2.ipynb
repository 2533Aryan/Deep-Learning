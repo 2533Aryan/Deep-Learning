{
 "cells": [
  {
   "cell_type": "markdown",
   "metadata": {
    "id": "CaMlE2wx8tcR"
   },
   "source": [
    "**Lab Assignment 2: Exploring linear algebra concepts with Python**\n",
    "\n",
    "For this assignment, you may want to employ SymPy as well as/in conjunction with NumPy. SymPy is symbolic mathematics library whereas NumPy is a numerical computing library. They can do similar things, but SymPy is better for symbolic algebra and equations, whereas NumPy is better for efficient numerical calculations.\n",
    "\n",
    "**Potential references/resources:**\n",
    "\n",
    "Generating random numbers: https://www.w3schools.com/python/numpy/numpy_random.asp\n",
    "\n",
    "Creating vectors and vector operations: https://www.digitalocean.com/community/tutorials/vectors-in-python\n",
    "\n",
    "https://medium.com/@ms_somanna/guide-to-adding-noise-to-your-data-using-python-and-numpy-c8be815df524\n",
    "\n",
    "https://www.geeksforgeeks.org/numpy-vector-multiplication/\n",
    "\n",
    "https://www.geeksforgeeks.org/python-sympy-matrix-diagonalize-method/\n",
    "\n",
    "https://www.geeksforgeeks.org/how-to-inverse-a-matrix-using-numpy/\n",
    "\n",
    "https://en.wikipedia.org/wiki/SymPy\n",
    "\n",
    "https://numpy.org/doc/stable/reference/generated/numpy.linalg.svd.html\n",
    "\n",
    "https://machinelearningmastery.com/singular-value-decomposition-for-machine-learning/\n",
    "\n",
    "https://towardsdatascience.com/understanding-singular-value-decomposition-and-its-application-in-data-science-388a54be95d\n",
    "\n",
    "**Remember to follow the principles of the rubric we developed:**\n",
    "\n",
    "1. Clarity/Comments\n",
    "2. Accuracy\n",
    "3. Typos\n",
    "4. Grammar/Syntax"
   ]
  },
  {
   "cell_type": "markdown",
   "metadata": {
    "id": "Eg2MnB8w9qc1"
   },
   "source": [
    "**Define, in whatever method you choose, two vectors v_1 and v_2 of the same dimension and print them.**\n",
    "\n",
    "Generating random numbers: https://www.w3schools.com/python/numpy/numpy_random.asp\n",
    "\n",
    "Creating vectors and vector operations: https://www.digitalocean.com/community/tutorials/vectors-in-python"
   ]
  },
  {
   "cell_type": "code",
   "execution_count": 1,
   "metadata": {
    "executionInfo": {
     "elapsed": 236,
     "status": "ok",
     "timestamp": 1695689812050,
     "user": {
      "displayName": "Abi Bowering",
      "userId": "08482982247955201463"
     },
     "user_tz": 240
    },
    "id": "Ms9Az69T9nn9"
   },
   "outputs": [
    {
     "name": "stdout",
     "output_type": "stream",
     "text": [
      "Vector v1: [9 6 6]\n",
      "Vector v2: [4 6 0]\n"
     ]
    }
   ],
   "source": [
    "# You may choose to generate random real numbers or integers between a certain range,\n",
    "# which makes sense if you decide to set a very large dimension,\n",
    "# or you may choose to pick the numbers manually and created smaller vectors.\n",
    "\n",
    "# eg. list = np.random.randint(lower_bound, upper_bound, size=dimension)\n",
    "\n",
    "# Then you can explicit that the list of numbers you have generated is a vector\n",
    "# using vector = np.array(list).\n",
    "\n",
    "\n",
    "# Import necessary libraries\n",
    "import numpy as np\n",
    "\n",
    "# Define the dimensions and range of the vectors\n",
    "dimension = 3\n",
    "lower_bound = 0  # Lower limit for random integer generation\n",
    "upper_bound = 10   # Upper limit for random integer generation\n",
    "\n",
    "# Generate two random vectors using numpy\n",
    "v1 = np.random.randint(lower_bound, upper_bound, size=dimension)\n",
    "v2 = np.random.randint(lower_bound, upper_bound, size=dimension)\n",
    "\n",
    "# Print the generated vectors\n",
    "print(\"Vector v1:\", v1)\n",
    "print(\"Vector v2:\", v2)"
   ]
  },
  {
   "cell_type": "markdown",
   "metadata": {
    "id": "iKxMME82_yNH"
   },
   "source": [
    "**Add noise to the components of v_1 and v_2. Print the outputs.**\n",
    "\n",
    "https://medium.com/@ms_somanna/guide-to-adding-noise-to-your-data-using-python-and-numpy-c8be815df524"
   ]
  },
  {
   "cell_type": "code",
   "execution_count": 2,
   "metadata": {
    "executionInfo": {
     "elapsed": 255,
     "status": "ok",
     "timestamp": 1695690048667,
     "user": {
      "displayName": "Abi Bowering",
      "userId": "08482982247955201463"
     },
     "user_tz": 240
    },
    "id": "eoUuNwwj-0kZ"
   },
   "outputs": [
    {
     "name": "stdout",
     "output_type": "stream",
     "text": [
      "Noisy vector v1: [7.94742492 7.11961115 6.70802677]\n",
      "Noisy vector v2: [1.95289106 6.04971195 1.97523212]\n"
     ]
    }
   ],
   "source": [
    "# Using Gaussian noise is likely the easiest (read about the types using the link above):\n",
    "# gaussian_noise = np.random.normal(mean, std_deviation, shape)\n",
    "# Make sure the shape of your noise is the same as the shape as your vectors.\n",
    "\n",
    "\n",
    "mean = 0  # Mean of the noise\n",
    "std_deviation = 1  # Standard deviation of the noise\n",
    "\n",
    "# Generate Gaussian noise\n",
    "noise_v1 = np.random.normal(mean, std_deviation, v1.shape)\n",
    "noise_v2 = np.random.normal(mean, std_deviation, v2.shape)\n",
    "\n",
    "# Add the noise to the vectors\n",
    "v1_noisy = v1 + noise_v1\n",
    "v2_noisy = v2 + noise_v2\n",
    "\n",
    "# Print the noisy vectors\n",
    "print(\"Noisy vector v1:\", v1_noisy)\n",
    "print(\"Noisy vector v2:\", v2_noisy)"
   ]
  },
  {
   "cell_type": "markdown",
   "metadata": {
    "id": "pf8A6X_mATzX"
   },
   "source": [
    "**Compute basic vector operations on v_1 and v_2: addition, subtraction, scalar multiplication, and the dot product. If you defined 3-dimensional vectors for v_1 and v_2 you can try to compute the cross product as well! Print the answers.**\n",
    "\n",
    "https://www.geeksforgeeks.org/numpy-vector-multiplication/"
   ]
  },
  {
   "cell_type": "code",
   "execution_count": 3,
   "metadata": {
    "id": "nqRW5ggl-b-e"
   },
   "outputs": [
    {
     "name": "stdout",
     "output_type": "stream",
     "text": [
      "Addition of v1 and v2: [13 12  6]\n",
      "Subtraction of v1 and v2: [5 0 6]\n",
      "Scalar multiplication (2 * v1): [18 12 12]\n",
      "Dot product of v1 and v2: 72\n",
      "Cross product of v1 and v2: [-36  24  30]\n"
     ]
    }
   ],
   "source": [
    "# You will likely have some intuition about the code to add, subtract and perform scalar multiplication.\n",
    "# The dot product is a command: np.dot(x,y)\n",
    "\n",
    "\n",
    "# Addition\n",
    "addition = v1 + v2\n",
    "\n",
    "# Subtraction\n",
    "subtraction = v1 - v2\n",
    "\n",
    "# Scalar multiplication (scaling v1 by 2)\n",
    "scalar_multiplication = 2 * v1\n",
    "\n",
    "# Dot product\n",
    "dot_product = np.dot(v1, v2)\n",
    "\n",
    "\n",
    "# Optional: cross product\n",
    "cross_product = np.cross(v1, v2)\n",
    "\n",
    "# Print the results\n",
    "print(\"Addition of v1 and v2:\", addition)\n",
    "print(\"Subtraction of v1 and v2:\", subtraction)\n",
    "print(\"Scalar multiplication (2 * v1):\", scalar_multiplication)\n",
    "print(\"Dot product of v1 and v2:\", dot_product)\n",
    "print(\"Cross product of v1 and v2:\", cross_product)"
   ]
  },
  {
   "cell_type": "markdown",
   "metadata": {
    "id": "hwSDErEIA9La"
   },
   "source": [
    "**Define a random 50x50 symmetric matrix A which is not invertible. Print the result.**"
   ]
  },
  {
   "cell_type": "code",
   "execution_count": 4,
   "metadata": {
    "id": "bgBPPLyCA8z4"
   },
   "outputs": [
    {
     "name": "stdout",
     "output_type": "stream",
     "text": [
      "Is the matrix symmetric? True\n",
      "Determinant of the matrix: 0.0\n",
      "Non-invertible symmetric matrix A:\n",
      "[[ 9.   4.5  2.  ... -1.   1.5  0. ]\n",
      " [ 4.5  5.  -4.  ... -8.   4.   0. ]\n",
      " [ 2.  -4.   1.  ... -2.5  4.5  0. ]\n",
      " ...\n",
      " [-1.  -8.  -2.5 ... -4.  -5.5  0. ]\n",
      " [ 1.5  4.   4.5 ... -5.5  9.   0. ]\n",
      " [ 0.   0.   0.  ...  0.   0.   0. ]]\n"
     ]
    }
   ],
   "source": [
    "# Remember when a matrix is not invertible - what is the determinant?\n",
    "\n",
    "# We will make this matrix in a specific way that is computationally efficient:\n",
    "# 1. Generate a random matrix - think about how to edit the code which generated random vectors!\n",
    "# 2. A nice way to quickly ensure a matrix is symmetric is by taking the average of it and its transpose.\n",
    "# Why does this work? Why might it be inefficient to keep generating random matrices until we get a symmetric one?\n",
    "# 3. Check the matrix generated is indeed symmetric by printing A==A.T\n",
    "# Remember the properties of symmetric matrices as to why this is how we verify\n",
    "# 4. Now to guarantee the matrix is not invertible, we will pad it with a row and a column of zeroes on the end:\n",
    "# use np.pad(A, (0,number of rows to add), (0,number of columns to add), mode='constant', constant_values=0).\n",
    "# Think about why this keeps the matrix symmetric and why it ensures we are not invertible.\n",
    "# You can take the determinant of A to double check.\n",
    "\n",
    "\n",
    "# Define matrix size\n",
    "size = 50\n",
    "\n",
    "# Generate a random matrix\n",
    "random_matrix = np.random.randint(-10, 10, size=(size, size))\n",
    "\n",
    "# Make the matrix symmetric by averaging it with its transpose\n",
    "symmetric_matrix = (random_matrix + random_matrix.T) / 2\n",
    "\n",
    "# Verify symmetry\n",
    "is_symmetric = np.allclose(symmetric_matrix, symmetric_matrix.T)\n",
    "print(\"Is the matrix symmetric?\", is_symmetric)\n",
    "\n",
    "# Add a row and column of zeroes to ensure the matrix is not invertible\n",
    "non_invertible_matrix = np.pad(symmetric_matrix, ((0, 1), (0, 1)), mode='constant', constant_values=0)\n",
    "\n",
    "# Calculate the determinant to confirm non-invertibility\n",
    "determinant = np.linalg.det(non_invertible_matrix)\n",
    "print(\"Determinant of the matrix:\", determinant)\n",
    "\n",
    "# Print the matrix\n",
    "print(\"Non-invertible symmetric matrix A:\")\n",
    "print(non_invertible_matrix)"
   ]
  },
  {
   "cell_type": "markdown",
   "metadata": {
    "id": "_frwkSZTC4hf"
   },
   "source": [
    "**Add noise to every element in A until the determinant is non-zero. Call this matrix B, and print it. Calculate and print the determinant of B.**"
   ]
  },
  {
   "cell_type": "code",
   "execution_count": 5,
   "metadata": {
    "executionInfo": {
     "elapsed": 138,
     "status": "ok",
     "timestamp": 1695690893810,
     "user": {
      "displayName": "Abi Bowering",
      "userId": "08482982247955201463"
     },
     "user_tz": 240
    },
    "id": "pGo62Y91DG3d"
   },
   "outputs": [
    {
     "name": "stdout",
     "output_type": "stream",
     "text": [
      "Matrix B:\n",
      "[[ 8.91502655  5.70280964  1.16929131 ... -2.19987678  2.2060962\n",
      "  -0.02054415]\n",
      " [ 4.79552065  5.2166671  -4.80453066 ... -7.43631204  4.29673452\n",
      "   0.71036386]\n",
      " [ 3.20302971 -4.36425262  1.30853251 ... -1.63157837  5.21706275\n",
      "   0.08545323]\n",
      " ...\n",
      " [ 0.68302951 -9.4923276  -2.90132948 ... -2.17229603 -5.12928187\n",
      "   1.08985798]\n",
      " [ 2.31843529  5.51259312  4.20210564 ... -6.1326836   9.72265697\n",
      "  -0.04818495]\n",
      " [-0.86455826  1.08778651 -0.93788688 ... -0.42782438  0.7776451\n",
      "  -0.65550239]]\n",
      "Determinant of B: -1.2198258995026897e+63\n"
     ]
    }
   ],
   "source": [
    "# Recall how you added Gaussian noise to the vectors above and try to translate that to a matrix\n",
    "# Define Gaussian noise parameters\n",
    "\n",
    "\n",
    "mean = 0  # Mean of the noise\n",
    "std_deviation = 1  # Standard deviation of the noise\n",
    "\n",
    "# Add noise to elements in A until the determinant is non-zero\n",
    "determinant_B = 0\n",
    "while determinant_B == 0:\n",
    "    noise_matrix = np.random.normal(mean, std_deviation, size=non_invertible_matrix.shape)\n",
    "    B = non_invertible_matrix + noise_matrix\n",
    "    determinant_B = np.linalg.det(B)  # Check determinant\n",
    "\n",
    "# Print the resulting matrix B and its determinant\n",
    "print(\"Matrix B:\")\n",
    "print(B)\n",
    "print(\"Determinant of B:\", determinant_B)"
   ]
  },
  {
   "cell_type": "markdown",
   "metadata": {
    "id": "1jQJyFhSA4Ng"
   },
   "source": [
    "**Take the inverse of B and call it C. Print C.**\n",
    "\n",
    "https://www.geeksforgeeks.org/how-to-inverse-a-matrix-using-numpy/\n"
   ]
  },
  {
   "cell_type": "code",
   "execution_count": 6,
   "metadata": {
    "id": "yM55MMq5EQOy"
   },
   "outputs": [
    {
     "name": "stdout",
     "output_type": "stream",
     "text": [
      "Inverse of matrix B (matrix C):\n",
      "[[ 0.04595053 -0.00767988 -0.01141756 ...  0.02524108  0.01628486\n",
      "   0.00927937]\n",
      " [-0.0589484   0.01266236  0.0264016  ...  0.0006944   0.00966733\n",
      "   0.12342962]\n",
      " [ 0.00668896  0.08586289 -0.03262218 ...  0.01722632 -0.00405839\n",
      "  -0.02626538]\n",
      " ...\n",
      " [ 0.00713428 -0.046072    0.04163906 ... -0.01620629 -0.05190337\n",
      "  -0.02606461]\n",
      " [ 0.01457475 -0.03910875  0.02345636 ... -0.0369029  -0.03443357\n",
      "  -0.01791685]\n",
      " [ 0.07325707 -0.36844347  0.13174855 ... -0.12393772 -0.06298853\n",
      "  -0.58753485]]\n"
     ]
    }
   ],
   "source": [
    "# You can use np.linalg.inv() to take the inverse.\n",
    "\n",
    "\n",
    "# Compute the inverse of B\n",
    "C = np.linalg.inv(B)\n",
    "\n",
    "# Print the inverse matrix C\n",
    "print(\"Inverse of matrix B (matrix C):\")\n",
    "print(C)"
   ]
  },
  {
   "cell_type": "markdown",
   "metadata": {
    "id": "6VzEM1tPEcxd"
   },
   "source": [
    "**Compute BC, CB, B+C, and B^10.**"
   ]
  },
  {
   "cell_type": "code",
   "execution_count": 7,
   "metadata": {
    "id": "K8OWne3PFHQV"
   },
   "outputs": [
    {
     "name": "stdout",
     "output_type": "stream",
     "text": [
      "Matrix BC:\n",
      "[[ 1.00000000e+00 -1.43634350e-16 -1.65534319e-17 ... -3.56140240e-17\n",
      "   1.46377175e-16  1.20893102e-16]\n",
      " [-5.75013309e-17  1.00000000e+00  1.51618398e-16 ...  3.09233994e-17\n",
      "   8.58366556e-16 -5.47718018e-16]\n",
      " [-4.11621061e-16 -1.30373863e-15  1.00000000e+00 ...  2.56047436e-16\n",
      "  -8.68944491e-16  1.64993434e-15]\n",
      " ...\n",
      " [-4.50473147e-17  2.02378156e-16  2.53964970e-16 ...  1.00000000e+00\n",
      "  -1.73201420e-16  3.36341831e-16]\n",
      " [-3.99181487e-16 -5.04570321e-16 -6.62759326e-16 ...  5.94175692e-16\n",
      "   1.00000000e+00 -2.40508249e-16]\n",
      " [ 1.59594560e-16 -1.11022302e-16  3.33066907e-16 ... -2.19450891e-17\n",
      "   3.23930439e-16  1.00000000e+00]]\n",
      "Matrix CB:\n",
      "[[ 1.00000000e+00  3.86757436e-16 -1.42413309e-15 ...  1.07288600e-15\n",
      "  -1.73615305e-15 -2.64790615e-16]\n",
      " [-1.39069251e-15  1.00000000e+00  1.68691177e-15 ... -7.94426129e-16\n",
      "   4.29783807e-15 -7.05961673e-16]\n",
      " [-1.42665056e-16  2.13364579e-16  1.00000000e+00 ...  2.34350222e-16\n",
      "  -7.90978005e-16  4.63538094e-16]\n",
      " ...\n",
      " [-5.61011883e-16 -7.41645146e-17 -5.01183018e-16 ...  1.00000000e+00\n",
      "   3.47438326e-16 -2.26149401e-17]\n",
      " [-3.39225639e-16  1.45570638e-17 -7.28035123e-16 ... -3.75974511e-16\n",
      "   1.00000000e+00 -6.68176462e-17]\n",
      " [-1.99840144e-15 -2.33146835e-15  8.88178420e-16 ... -2.31817403e-15\n",
      "  -1.18361261e-16  1.00000000e+00]]\n",
      "Matrix B + C:\n",
      "[[ 8.96097709  5.69512976  1.15787375 ... -2.1746357   2.22238107\n",
      "  -0.01126477]\n",
      " [ 4.73657225  5.22932946 -4.77812906 ... -7.43561764  4.30640185\n",
      "   0.83379348]\n",
      " [ 3.20971867 -4.27838973  1.27591033 ... -1.61435204  5.21300437\n",
      "   0.05918786]\n",
      " ...\n",
      " [ 0.6901638  -9.5383996  -2.85969042 ... -2.18850232 -5.18118524\n",
      "   1.06379337]\n",
      " [ 2.33301004  5.47348437  4.225562   ... -6.1695865   9.6882234\n",
      "  -0.0661018 ]\n",
      " [-0.79130119  0.71934304 -0.80613833 ... -0.5517621   0.71465657\n",
      "  -1.24303723]]\n",
      "Matrix B^10:\n",
      "[[ 1.58707891e+16  1.49717992e+16  1.63900325e+15 ... -1.26841972e+16\n",
      "   1.10675241e+16  6.58296256e+14]\n",
      " [ 1.65732415e+16  2.56584596e+16  5.07472493e+14 ... -1.46830767e+16\n",
      "   6.47685419e+15 -7.55188747e+13]\n",
      " [ 2.03761022e+15  1.41318107e+15  9.57093387e+15 ... -3.20818151e+15\n",
      "   5.13620973e+15  2.60510115e+13]\n",
      " ...\n",
      " [-1.76981255e+16 -2.31713339e+16 -5.30018624e+15 ...  5.02221791e+16\n",
      "  -2.69618589e+15 -4.66029173e+15]\n",
      " [ 5.87498294e+15 -4.53314264e+15  1.04282262e+15 ...  1.15193772e+16\n",
      "   2.04315794e+16 -1.47442785e+15]\n",
      " [ 2.59570020e+14  2.37540751e+14 -3.35944886e+13 ... -2.43928829e+12\n",
      "   5.56170900e+14 -2.92746862e+13]]\n"
     ]
    }
   ],
   "source": [
    "# Think about how to alter the code for vector addition and multiplication to fit with the matrices.\n",
    "\n",
    "\n",
    "# Compute BC\n",
    "BC = np.dot(B, C)\n",
    "\n",
    "# Compute CB\n",
    "CB = np.dot(C, B)\n",
    "\n",
    "# Compute B+C\n",
    "B_plus_C = B + C\n",
    "\n",
    "# Compute B^10\n",
    "B_power_10 = np.linalg.matrix_power(B, 10)\n",
    "\n",
    "# Print the results\n",
    "print(\"Matrix BC:\")\n",
    "print(BC)\n",
    "\n",
    "print(\"Matrix CB:\")\n",
    "print(CB)\n",
    "\n",
    "print(\"Matrix B + C:\")\n",
    "print(B_plus_C)\n",
    "\n",
    "print(\"Matrix B^10:\")\n",
    "print(B_power_10)"
   ]
  },
  {
   "cell_type": "markdown",
   "metadata": {
    "id": "-YiAXTx8FMj5"
   },
   "source": [
    "**You likely noticed that BC and CB should give us the identity matrix, because by construction C is the inverse of B. However, the computer may not have given you exactly the identity matrix, but something very close. This does not mean your answer has wrong. Think about the natural of computation and numerics as to why this is possible!**"
   ]
  },
  {
   "cell_type": "markdown",
   "metadata": {
    "id": "isg8ivxGFvt3"
   },
   "source": [
    "Write a sentence or two about what you think ...\n",
    "\n",
    "Response: The results of 𝐵𝐶 and CB should approximate the identity matrix because C is the inverse of 𝐵. However, due to the nature of numerical computation and finite precision arithmetic, small rounding errors and approximations occur when performing matrix operations in floating-point arithmetic. These small errors run through the calculations, causing BC and CB to deviate a bit from the exact identity matrix."
   ]
  },
  {
   "cell_type": "markdown",
   "metadata": {
    "id": "COvOUqMyF4Kj"
   },
   "source": [
    "**Compute and print the eigenvalues and eigenvectors of A (the original matrix).**"
   ]
  },
  {
   "cell_type": "code",
   "execution_count": 8,
   "metadata": {
    "id": "RxJ-Y-CvFoXe"
   },
   "outputs": [
    {
     "name": "stdout",
     "output_type": "stream",
     "text": [
      "Eigenvalues of A:\n",
      "[ 55.96204331  51.77485178 -57.1621286   45.80408182  42.80812555\n",
      " -49.96502684 -48.04362947 -46.70753034 -44.83433454  40.20148404\n",
      "  38.11120947 -40.49269365  35.28813005 -37.04010142 -35.89415114\n",
      "  31.8035732  -32.29797662 -31.48710061  28.03519475  27.60641537\n",
      "  25.24184966  24.73001212  21.04951581  20.30056338  19.35681445\n",
      "  16.28692888  15.67868783  14.63424434  13.34403583 -27.16629162\n",
      " -25.50133801 -23.58687336 -22.882297   -20.76216579 -17.75989728\n",
      " -15.49222298 -16.02590413   6.25479418   6.70597196 -13.28614188\n",
      "   4.18403598   3.05712048   1.83426517  -0.54942051  -2.29760423\n",
      "  -3.9653985  -10.79229149  -5.78927396  -9.0342498   -8.23790563\n",
      "   0.        ]\n",
      "Eigenvectors of A:\n",
      "[[-0.00312252 -0.25540086  0.10533506 ...  0.178147    0.02789643\n",
      "   0.        ]\n",
      " [ 0.08084287 -0.33871339  0.02000152 ... -0.25218458 -0.16863373\n",
      "   0.        ]\n",
      " [ 0.01255496  0.03726509  0.04208219 ... -0.18770375 -0.04014015\n",
      "   0.        ]\n",
      " ...\n",
      " [-0.15710365  0.17433232 -0.28984535 ... -0.16218669  0.09800041\n",
      "   0.        ]\n",
      " [-0.19485045 -0.14278168  0.04261389 ... -0.13325969 -0.10746027\n",
      "   0.        ]\n",
      " [ 0.          0.          0.         ...  0.          0.\n",
      "   1.        ]]\n"
     ]
    }
   ],
   "source": [
    "# You can use easily the command:\n",
    "# eigenvalues, eigenvectors = np.linalg.eig()\n",
    "\n",
    "\n",
    "# Compute eigenvalues and eigenvectors of A\n",
    "eigenvalues, eigenvectors = np.linalg.eig(non_invertible_matrix)\n",
    "\n",
    "# Print the results\n",
    "print(\"Eigenvalues of A:\")\n",
    "print(eigenvalues)\n",
    "print(\"Eigenvectors of A:\")\n",
    "print(eigenvectors)"
   ]
  },
  {
   "cell_type": "markdown",
   "metadata": {
    "id": "c7mRX-oHGV0r"
   },
   "source": [
    "**Diagonalize A.**\n",
    "\n",
    "For this question, SymPy has a diagonalize command which is quite easy to use. You can also use NumPy and construct the matrices P and D (where A = PDP^-1) using the calculated eigenvectors and eigenvalues. **Print D.**\n",
    "\n",
    "https://www.geeksforgeeks.org/python-sympy-matrix-diagonalize-method/"
   ]
  },
  {
   "cell_type": "code",
   "execution_count": 9,
   "metadata": {
    "executionInfo": {
     "elapsed": 5,
     "status": "ok",
     "timestamp": 1695692184026,
     "user": {
      "displayName": "Abi Bowering",
      "userId": "08482982247955201463"
     },
     "user_tz": 240
    },
    "id": "2uoC3nadHLVp"
   },
   "outputs": [
    {
     "name": "stdout",
     "output_type": "stream",
     "text": [
      "Diagonalized matrix D:\n",
      "[[-57.1621286    0.           0.         ...   0.           0.\n",
      "    0.        ]\n",
      " [  0.          55.96204331   0.         ...   0.           0.\n",
      "    0.        ]\n",
      " [  0.           0.         -49.96502684 ...   0.           0.\n",
      "    0.        ]\n",
      " ...\n",
      " [  0.           0.           0.         ...  28.03519475   0.\n",
      "    0.        ]\n",
      " [  0.           0.           0.         ...   0.          31.8035732\n",
      "    0.        ]\n",
      " [  0.           0.           0.         ...   0.           0.\n",
      "    0.        ]]\n"
     ]
    }
   ],
   "source": [
    "# If using SymPy, import sympy as sp\n",
    "# Convert the NumPy array to a SymPy matrix using sp.Matrix()\n",
    "# The command P, D = matrix.diagonalize() generates P and D in A = PDP^-1.\n",
    "# Remember that D is the diagonalized matrix - ie, what we are after in this question\n",
    "# I like to convert back to a NumPy array to print D, because it displays nicer than the SymPy matrix\n",
    "# Use np.array() to convert back if you choose to\n",
    "\n",
    "\n",
    "# Import SymPy\n",
    "import sympy as sp\n",
    "\n",
    "# Convert the NumPy array to a SymPy matrix\n",
    "A_sympy = sp.Matrix(non_invertible_matrix)\n",
    "\n",
    "# Diagonalize A\n",
    "P, D = A_sympy.diagonalize()\n",
    "\n",
    "# Convert the diagonalized matrix D back to a NumPy array\n",
    "D_numpy = np.array(D).astype(np.float64)\n",
    "\n",
    "# Print the diagonalized matrix D\n",
    "print(\"Diagonalized matrix D:\")\n",
    "print(D_numpy)"
   ]
  },
  {
   "cell_type": "markdown",
   "metadata": {
    "id": "w-U77MKyJNHO"
   },
   "source": [
    "**Do a singular value decomposition of a random 5x4 matrix.**\n",
    "\n",
    "https://towardsdatascience.com/understanding-singular-value-decomposition-and-its-application-in-data-science-388a54be95d\n",
    "\n",
    "https://numpy.org/doc/stable/reference/generated/numpy.linalg.svd.html\n",
    "\n",
    "https://machinelearningmastery.com/singular-value-decomposition-for-machine-learning/"
   ]
  },
  {
   "cell_type": "code",
   "execution_count": 10,
   "metadata": {
    "id": "GOf6GQlDIVgR"
   },
   "outputs": [
    {
     "name": "stdout",
     "output_type": "stream",
     "text": [
      "Matrix U:\n",
      "[[-0.4439581  -0.32356829 -0.67816213  0.3083618   0.37843611]\n",
      " [ 0.12004702  0.58743387  0.12613524  0.74583427  0.26140255]\n",
      " [-0.62643865  0.11413751  0.52240009 -0.25496812  0.50659318]\n",
      " [-0.62932764  0.23041166 -0.02020277  0.17585582 -0.72077997]\n",
      " [ 0.0033547   0.69577877 -0.50087525 -0.50270292  0.11088012]]\n",
      "Singular values (S):\n",
      "[16.55082186 15.72195308  9.67603499  3.35631257]\n",
      "Matrix VT:\n",
      "[[ 0.70955723 -0.03466374 -0.40801765  0.57345318]\n",
      " [-0.51274923  0.64458118 -0.20133222  0.5301591 ]\n",
      " [ 0.133419    0.403366   -0.66520437 -0.61400194]\n",
      " [ 0.46456015  0.64854406  0.59202203 -0.11438704]]\n"
     ]
    }
   ],
   "source": [
    "# Recall how to generate random values for a matrix\n",
    "\n",
    "# To perform the SVD you use this command:\n",
    "# U, S, VT = np.linalg.svd(random.matrx)\n",
    "# Print each of U, S, and VT\n",
    "# Note you could call these anything\n",
    "\n",
    "\n",
    "# Generate a random 5x4 matrix\n",
    "random_matrix = np.random.randint(-10, 10, size=(5, 4))\n",
    "\n",
    "# Perform SVD\n",
    "U, S, VT = np.linalg.svd(random_matrix)\n",
    "\n",
    "# Print the results\n",
    "print(\"Matrix U:\")\n",
    "print(U)\n",
    "print(\"Singular values (S):\")\n",
    "print(S)\n",
    "print(\"Matrix VT:\")\n",
    "print(VT)"
   ]
  },
  {
   "cell_type": "markdown",
   "metadata": {
    "id": "DSkT1cDYKXX4"
   },
   "source": [
    "**Multiply back together the three matrices obtained through the SVD, ie, recompose the matrix. There will be some error associated with this process. (Why?)**"
   ]
  },
  {
   "cell_type": "code",
   "execution_count": 11,
   "metadata": {
    "id": "xc41c7TfMWUG"
   },
   "outputs": [
    {
     "name": "stdout",
     "output_type": "stream",
     "text": [
      "Recomposed matrix:\n",
      "[[-3.00000000e+00 -5.00000000e+00  9.00000000e+00 -3.00000000e+00]\n",
      " [-2.00000000e+00  8.00000000e+00 -2.00000000e+00  5.00000000e+00]\n",
      " [-8.00000000e+00  3.00000000e+00  9.35702266e-15 -8.00000000e+00]\n",
      " [-9.00000000e+00  3.00000000e+00  4.00000000e+00 -4.00000000e+00]\n",
      " [-7.00000000e+00  4.00000000e+00 -1.52159130e-14  9.00000000e+00]]\n"
     ]
    }
   ],
   "source": [
    "# Use the techniques learned above to multiply the three matrices\n",
    "\n",
    "# Recompose the matrix using SVD results\n",
    "# Note: The singular values S need to be converted to a diagonal matrix\n",
    "S_matrix = np.zeros((U.shape[0], VT.shape[0]))\n",
    "np.fill_diagonal(S_matrix, S)\n",
    "recomposed_matrix = np.dot(U, np.dot(S_matrix, VT))\n",
    "\n",
    "# Print the recomposed matrix\n",
    "print(\"Recomposed matrix:\")\n",
    "print(recomposed_matrix)\n",
    "\n",
    "# Why is there an error?\n",
    "# Response:\n",
    "# The error occurs because SVD is computed using numerical approximations, which may introduce small inaccuracies\n",
    "# due to the limitations of floating-point precision in computer arithmetic."
   ]
  },
  {
   "cell_type": "markdown",
   "metadata": {
    "id": "JejJwjBgMc4I"
   },
   "source": [
    "**Subtract the 'recomposed' matrix from the original 5x4 matrix to get an error matrix. Take the Frobenius norm of the error matrix to see the error in scalar form.**"
   ]
  },
  {
   "cell_type": "code",
   "execution_count": 12,
   "metadata": {
    "id": "wEPffps3Kfea"
   },
   "outputs": [
    {
     "name": "stdout",
     "output_type": "stream",
     "text": [
      "Error matrix:\n",
      "[[-4.44089210e-16 -8.88178420e-16 -7.10542736e-15 -3.55271368e-15]\n",
      " [ 1.33226763e-15  0.00000000e+00  8.88178420e-15  6.21724894e-15]\n",
      " [ 1.77635684e-15  1.77635684e-15 -9.35702266e-15 -1.77635684e-15]\n",
      " [ 1.77635684e-15 -1.33226763e-15 -2.66453526e-15  8.88178420e-16]\n",
      " [-1.77635684e-15 -9.76996262e-15  1.52159130e-14  1.42108547e-14]]\n",
      "Frobenius norm of the error matrix:\n",
      "2.8728546203814266e-14\n"
     ]
    }
   ],
   "source": [
    "# You can use the code to take the Frobenius norm:\n",
    "# frobenius_norm = np.linalg.norm(matrix, ord='fro')\n",
    "\n",
    "\n",
    "# Compute the error matrix\n",
    "error_matrix = random_matrix - recomposed_matrix\n",
    "\n",
    "# Compute the Frobenius norm of the error matrix\n",
    "frobenius_norm = np.linalg.norm(error_matrix, ord='fro')\n",
    "\n",
    "# Print the error matrix and Frobenius norm\n",
    "print(\"Error matrix:\")\n",
    "print(error_matrix)\n",
    "print(\"Frobenius norm of the error matrix:\")\n",
    "print(frobenius_norm)"
   ]
  }
 ],
 "metadata": {
  "colab": {
   "authorship_tag": "ABX9TyP8TKJQjNSwn4AGEkpbzA7c",
   "provenance": []
  },
  "kernelspec": {
   "display_name": "Python 3",
   "name": "python3"
  },
  "language_info": {
   "codemirror_mode": {
    "name": "ipython",
    "version": 3
   },
   "file_extension": ".py",
   "mimetype": "text/x-python",
   "name": "python",
   "nbconvert_exporter": "python",
   "pygments_lexer": "ipython3",
   "version": "3.10.0"
  }
 },
 "nbformat": 4,
 "nbformat_minor": 0
}
